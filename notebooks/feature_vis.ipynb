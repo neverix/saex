{
 "cells": [
  {
   "cell_type": "code",
   "execution_count": 1,
   "metadata": {},
   "outputs": [
    {
     "name": "stderr",
     "output_type": "stream",
     "text": [
      "/home/neverix/.cache/pypoetry/virtualenvs/saex-U2at97x7-py3.12/lib/python3.12/site-packages/huggingface_hub/file_download.py:1132: FutureWarning: `resume_download` is deprecated and will be removed in version 1.0.0. Downloads always resume when possible. If you want to force a new download, use `force_download=True`.\n",
      "  warnings.warn(\n",
      "Special tokens have been added in the vocabulary, make sure the associated word embeddings are fine-tuned or trained.\n"
     ]
    },
    {
     "name": "stdout",
     "output_type": "stream",
     "text": [
      "Loading model...\n"
     ]
    },
    {
     "ename": "RuntimeError",
     "evalue": "Unable to initialize backend 'tpu': ABORTED: The TPU is already in use by process with pid 2820698. Not attempting to load libtpu.so in this process. (set JAX_PLATFORMS='' to automatically choose an available backend)",
     "output_type": "error",
     "traceback": [
      "\u001b[0;31m---------------------------------------------------------------------------\u001b[0m",
      "\u001b[0;31mXlaRuntimeError\u001b[0m                           Traceback (most recent call last)",
      "File \u001b[0;32m~/.cache/pypoetry/virtualenvs/saex-U2at97x7-py3.12/lib/python3.12/site-packages/jax/_src/xla_bridge.py:874\u001b[0m, in \u001b[0;36mbackends\u001b[0;34m()\u001b[0m\n\u001b[1;32m    873\u001b[0m \u001b[38;5;28;01mtry\u001b[39;00m:\n\u001b[0;32m--> 874\u001b[0m   backend \u001b[38;5;241m=\u001b[39m \u001b[43m_init_backend\u001b[49m\u001b[43m(\u001b[49m\u001b[43mplatform\u001b[49m\u001b[43m)\u001b[49m\n\u001b[1;32m    875\u001b[0m   _backends[platform] \u001b[38;5;241m=\u001b[39m backend\n",
      "File \u001b[0;32m~/.cache/pypoetry/virtualenvs/saex-U2at97x7-py3.12/lib/python3.12/site-packages/jax/_src/xla_bridge.py:965\u001b[0m, in \u001b[0;36m_init_backend\u001b[0;34m(platform)\u001b[0m\n\u001b[1;32m    964\u001b[0m logger\u001b[38;5;241m.\u001b[39mdebug(\u001b[38;5;124m\"\u001b[39m\u001b[38;5;124mInitializing backend \u001b[39m\u001b[38;5;124m'\u001b[39m\u001b[38;5;132;01m%s\u001b[39;00m\u001b[38;5;124m'\u001b[39m\u001b[38;5;124m\"\u001b[39m, platform)\n\u001b[0;32m--> 965\u001b[0m backend \u001b[38;5;241m=\u001b[39m \u001b[43mregistration\u001b[49m\u001b[38;5;241;43m.\u001b[39;49m\u001b[43mfactory\u001b[49m\u001b[43m(\u001b[49m\u001b[43m)\u001b[49m\n\u001b[1;32m    966\u001b[0m \u001b[38;5;66;03m# TODO(skye): consider raising more descriptive errors directly from backend\u001b[39;00m\n\u001b[1;32m    967\u001b[0m \u001b[38;5;66;03m# factories instead of returning None.\u001b[39;00m\n",
      "File \u001b[0;32m~/.cache/pypoetry/virtualenvs/saex-U2at97x7-py3.12/lib/python3.12/site-packages/jax/_src/xla_bridge.py:163\u001b[0m, in \u001b[0;36mtpu_client_timer_callback\u001b[0;34m(timer_secs)\u001b[0m\n\u001b[1;32m    162\u001b[0m \u001b[38;5;28;01mtry\u001b[39;00m:\n\u001b[0;32m--> 163\u001b[0m   client \u001b[38;5;241m=\u001b[39m \u001b[43mxla_client\u001b[49m\u001b[38;5;241;43m.\u001b[39;49m\u001b[43mmake_tpu_client\u001b[49m\u001b[43m(\u001b[49m\u001b[43m_get_tpu_library_path\u001b[49m\u001b[43m(\u001b[49m\u001b[43m)\u001b[49m\u001b[43m)\u001b[49m\n\u001b[1;32m    164\u001b[0m \u001b[38;5;28;01mfinally\u001b[39;00m:\n",
      "File \u001b[0;32m~/.cache/pypoetry/virtualenvs/saex-U2at97x7-py3.12/lib/python3.12/site-packages/jaxlib/xla_client.py:207\u001b[0m, in \u001b[0;36mmake_tpu_client\u001b[0;34m(library_path)\u001b[0m\n\u001b[1;32m    206\u001b[0m   profiler\u001b[38;5;241m.\u001b[39mregister_plugin_profiler(c_api)\n\u001b[0;32m--> 207\u001b[0m \u001b[38;5;28;01mreturn\u001b[39;00m \u001b[43mmake_tfrt_tpu_c_api_client\u001b[49m\u001b[43m(\u001b[49m\u001b[43m)\u001b[49m\n",
      "File \u001b[0;32m~/.cache/pypoetry/virtualenvs/saex-U2at97x7-py3.12/lib/python3.12/site-packages/jaxlib/xla_client.py:128\u001b[0m, in \u001b[0;36mmake_tfrt_tpu_c_api_client\u001b[0;34m(options)\u001b[0m\n\u001b[1;32m    127\u001b[0m \u001b[38;5;28;01mif\u001b[39;00m \u001b[38;5;129;01mnot\u001b[39;00m pjrt_plugin_initialized(\u001b[38;5;124m'\u001b[39m\u001b[38;5;124mtpu\u001b[39m\u001b[38;5;124m'\u001b[39m):\n\u001b[0;32m--> 128\u001b[0m   \u001b[43minitialize_pjrt_plugin\u001b[49m\u001b[43m(\u001b[49m\u001b[38;5;124;43m'\u001b[39;49m\u001b[38;5;124;43mtpu\u001b[39;49m\u001b[38;5;124;43m'\u001b[39;49m\u001b[43m)\u001b[49m\n\u001b[1;32m    129\u001b[0m \u001b[38;5;28;01mif\u001b[39;00m options \u001b[38;5;129;01mis\u001b[39;00m \u001b[38;5;28;01mNone\u001b[39;00m:\n",
      "File \u001b[0;32m~/.cache/pypoetry/virtualenvs/saex-U2at97x7-py3.12/lib/python3.12/site-packages/jaxlib/xla_client.py:176\u001b[0m, in \u001b[0;36minitialize_pjrt_plugin\u001b[0;34m(plugin_name)\u001b[0m\n\u001b[1;32m    169\u001b[0m \u001b[38;5;250m\u001b[39m\u001b[38;5;124;03m\"\"\"Initializes a PJRT plugin.\u001b[39;00m\n\u001b[1;32m    170\u001b[0m \n\u001b[1;32m    171\u001b[0m \u001b[38;5;124;03mThe plugin needs to be loaded first (through load_pjrt_plugin_dynamically or\u001b[39;00m\n\u001b[0;32m   (...)\u001b[0m\n\u001b[1;32m    174\u001b[0m \u001b[38;5;124;03m  plugin_name: the name of the PJRT plugin.\u001b[39;00m\n\u001b[1;32m    175\u001b[0m \u001b[38;5;124;03m\"\"\"\u001b[39;00m\n\u001b[0;32m--> 176\u001b[0m \u001b[43m_xla\u001b[49m\u001b[38;5;241;43m.\u001b[39;49m\u001b[43minitialize_pjrt_plugin\u001b[49m\u001b[43m(\u001b[49m\u001b[43mplugin_name\u001b[49m\u001b[43m)\u001b[49m\n",
      "\u001b[0;31mXlaRuntimeError\u001b[0m: ABORTED: The TPU is already in use by process with pid 2820698. Not attempting to load libtpu.so in this process.",
      "\nDuring handling of the above exception, another exception occurred:\n",
      "\u001b[0;31mRuntimeError\u001b[0m                              Traceback (most recent call last)",
      "Cell \u001b[0;32mIn[1], line 25\u001b[0m\n\u001b[1;32m     13\u001b[0m dataset_config \u001b[38;5;241m=\u001b[39m IterableDatasetConfig(\n\u001b[1;32m     14\u001b[0m     dataset_name\u001b[38;5;241m=\u001b[39m\u001b[38;5;124m\"\u001b[39m\u001b[38;5;124mnev/openhermes-2.5-phi-format-text\u001b[39m\u001b[38;5;124m\"\u001b[39m,\n\u001b[1;32m     15\u001b[0m     \u001b[38;5;66;03m# dataset_name=\"nev/generated-phi-format-text\",\u001b[39;00m\n\u001b[1;32m     16\u001b[0m )\n\u001b[1;32m     17\u001b[0m model_config \u001b[38;5;241m=\u001b[39m MicrlhfModelConfig(\n\u001b[1;32m     18\u001b[0m     tokenizer_path\u001b[38;5;241m=\u001b[39m\u001b[38;5;124m\"\u001b[39m\u001b[38;5;124mmicrosoft/Phi-3-mini-4k-instruct\u001b[39m\u001b[38;5;124m\"\u001b[39m,\n\u001b[1;32m     19\u001b[0m     gguf_path\u001b[38;5;241m=\u001b[39m\u001b[38;5;124m\"\u001b[39m\u001b[38;5;124m../weights/phi-3-16.gguf\u001b[39m\u001b[38;5;124m\"\u001b[39m,\n\u001b[0;32m   (...)\u001b[0m\n\u001b[1;32m     23\u001b[0m     max_seq_len\u001b[38;5;241m=\u001b[39m\u001b[38;5;241m128\u001b[39m,\n\u001b[1;32m     24\u001b[0m )\n\u001b[0;32m---> 25\u001b[0m haver \u001b[38;5;241m=\u001b[39m \u001b[43mModelHaver\u001b[49m\u001b[43m(\u001b[49m\u001b[43mmodel_config\u001b[49m\u001b[38;5;241;43m=\u001b[39;49m\u001b[43mmodel_config\u001b[49m\u001b[43m,\u001b[49m\u001b[43m \u001b[49m\u001b[43mdataset_config\u001b[49m\u001b[38;5;241;43m=\u001b[39;49m\u001b[43mdataset_config\u001b[49m\u001b[43m)\u001b[49m\n",
      "File \u001b[0;32m~/saex/saex/haver.py:25\u001b[0m, in \u001b[0;36mModelHaver.__init__\u001b[0;34m(self, model_config, dataset_config, create_dataset, model, use_devices, mp_devices)\u001b[0m\n\u001b[1;32m     23\u001b[0m \u001b[38;5;28mprint\u001b[39m(\u001b[38;5;124m\"\u001b[39m\u001b[38;5;124mLoading model...\u001b[39m\u001b[38;5;124m\"\u001b[39m)\n\u001b[1;32m     24\u001b[0m \u001b[38;5;28;01mif\u001b[39;00m model_config\u001b[38;5;241m.\u001b[39mmodel_class\u001b[38;5;241m.\u001b[39mhas_mesh:\n\u001b[0;32m---> 25\u001b[0m     model \u001b[38;5;241m=\u001b[39m \u001b[43mmodel_config\u001b[49m\u001b[38;5;241;43m.\u001b[39;49m\u001b[43mmodel_class\u001b[49m\u001b[43m(\u001b[49m\u001b[43mmodel_config\u001b[49m\u001b[43m)\u001b[49m\n\u001b[1;32m     26\u001b[0m     mesh \u001b[38;5;241m=\u001b[39m model\u001b[38;5;241m.\u001b[39mmesh\n\u001b[1;32m     27\u001b[0m \u001b[38;5;28;01melse\u001b[39;00m:\n",
      "File \u001b[0;32m~/saex/saex/models/micrlhf_model.py:41\u001b[0m, in \u001b[0;36mMicrlhfModel.__init__\u001b[0;34m(self, config)\u001b[0m\n\u001b[1;32m     39\u001b[0m \u001b[38;5;28mself\u001b[39m\u001b[38;5;241m.\u001b[39mconfig \u001b[38;5;241m=\u001b[39m config\n\u001b[1;32m     40\u001b[0m \u001b[38;5;28mself\u001b[39m\u001b[38;5;241m.\u001b[39m_tokenizer \u001b[38;5;241m=\u001b[39m AutoTokenizer\u001b[38;5;241m.\u001b[39mfrom_pretrained(config\u001b[38;5;241m.\u001b[39mtokenizer_path)\n\u001b[0;32m---> 41\u001b[0m \u001b[38;5;28mself\u001b[39m\u001b[38;5;241m.\u001b[39m_llama \u001b[38;5;241m=\u001b[39m \u001b[43mLlamaTransformer\u001b[49m\u001b[38;5;241;43m.\u001b[39;49m\u001b[43mfrom_pretrained\u001b[49m\u001b[43m(\u001b[49m\u001b[43mconfig\u001b[49m\u001b[38;5;241;43m.\u001b[39;49m\u001b[43mgguf_path\u001b[49m\u001b[43m,\u001b[49m\u001b[43m \u001b[49m\u001b[43mdevice_map\u001b[49m\u001b[38;5;241;43m=\u001b[39;49m\u001b[43mconfig\u001b[49m\u001b[38;5;241;43m.\u001b[39;49m\u001b[43mdevice_map\u001b[49m\u001b[43m,\u001b[49m\n\u001b[1;32m     42\u001b[0m \u001b[43m                                               \u001b[49m\u001b[43mfrom_type\u001b[49m\u001b[38;5;241;43m=\u001b[39;49m\u001b[43mconfig\u001b[49m\u001b[38;5;241;43m.\u001b[39;49m\u001b[43mfrom_type\u001b[49m\u001b[43m,\u001b[49m\u001b[43m \u001b[49m\u001b[43mload_eager\u001b[49m\u001b[38;5;241;43m=\u001b[39;49m\u001b[43mconfig\u001b[49m\u001b[38;5;241;43m.\u001b[39;49m\u001b[43mload_eager\u001b[49m\u001b[43m)\u001b[49m\n\u001b[1;32m     43\u001b[0m \u001b[38;5;28;01mif\u001b[39;00m config\u001b[38;5;241m.\u001b[39muse_flash:\n\u001b[1;32m     44\u001b[0m     \u001b[38;5;28mself\u001b[39m\u001b[38;5;241m.\u001b[39m_llama \u001b[38;5;241m=\u001b[39m flashify(\u001b[38;5;28mself\u001b[39m\u001b[38;5;241m.\u001b[39m_llama)\n",
      "File \u001b[0;32m~/.cache/pypoetry/virtualenvs/saex-U2at97x7-py3.12/lib/python3.12/site-packages/micrlhf/llama.py:353\u001b[0m, in \u001b[0;36mLlamaTransformer.from_pretrained\u001b[0;34m(cls, gguf_path, from_type, device_map, extract_layer, load_eager)\u001b[0m\n\u001b[1;32m    348\u001b[0m \u001b[38;5;129m@classmethod\u001b[39m\n\u001b[1;32m    349\u001b[0m \u001b[38;5;28;01mdef\u001b[39;00m \u001b[38;5;21mfrom_pretrained\u001b[39m(\u001b[38;5;28mcls\u001b[39m, gguf_path: os\u001b[38;5;241m.\u001b[39mPathLike,\n\u001b[1;32m    350\u001b[0m                     from_type: Literal[\u001b[38;5;28;01mNone\u001b[39;00m, \u001b[38;5;124m\"\u001b[39m\u001b[38;5;124mgemma\u001b[39m\u001b[38;5;124m\"\u001b[39m] \u001b[38;5;241m=\u001b[39m \u001b[38;5;28;01mNone\u001b[39;00m,\n\u001b[1;32m    351\u001b[0m                     device_map\u001b[38;5;241m=\u001b[39m\u001b[38;5;124m\"\u001b[39m\u001b[38;5;124mauto\u001b[39m\u001b[38;5;124m\"\u001b[39m, extract_layer\u001b[38;5;241m=\u001b[39m\u001b[38;5;28;01mNone\u001b[39;00m,\n\u001b[1;32m    352\u001b[0m                     load_eager\u001b[38;5;241m=\u001b[39m\u001b[38;5;28;01mFalse\u001b[39;00m):\n\u001b[0;32m--> 353\u001b[0m     mesh \u001b[38;5;241m=\u001b[39m \u001b[38;5;28;43mcls\u001b[39;49m\u001b[38;5;241;43m.\u001b[39;49m\u001b[43mmake_mesh\u001b[49m\u001b[43m(\u001b[49m\u001b[43mdevice_map\u001b[49m\u001b[43m)\u001b[49m\n\u001b[1;32m    355\u001b[0m     gguf \u001b[38;5;241m=\u001b[39m GGUFReader(gguf_path)\n\u001b[1;32m    356\u001b[0m     \u001b[38;5;28;01mif\u001b[39;00m from_type \u001b[38;5;241m==\u001b[39m \u001b[38;5;124m\"\u001b[39m\u001b[38;5;124mgemma\u001b[39m\u001b[38;5;124m\"\u001b[39m:\n",
      "File \u001b[0;32m~/.cache/pypoetry/virtualenvs/saex-U2at97x7-py3.12/lib/python3.12/site-packages/micrlhf/llama.py:340\u001b[0m, in \u001b[0;36mLlamaTransformer.make_mesh\u001b[0;34m(cls, device_map)\u001b[0m\n\u001b[1;32m    338\u001b[0m             mp \u001b[38;5;241m=\u001b[39m \u001b[38;5;28mint\u001b[39m(part\u001b[38;5;241m.\u001b[39mpartition(\u001b[38;5;124m\"\u001b[39m\u001b[38;5;124m=\u001b[39m\u001b[38;5;124m\"\u001b[39m)[\u001b[38;5;241m2\u001b[39m])\n\u001b[1;32m    339\u001b[0m         \u001b[38;5;66;03m# TODO SP support\u001b[39;00m\n\u001b[0;32m--> 340\u001b[0m     mesh \u001b[38;5;241m=\u001b[39m jshard\u001b[38;5;241m.\u001b[39mMesh(np\u001b[38;5;241m.\u001b[39masarray(\u001b[43mjax\u001b[49m\u001b[38;5;241;43m.\u001b[39;49m\u001b[43mdevices\u001b[49m\u001b[43m(\u001b[49m\u001b[43m)\u001b[49m)\u001b[38;5;241m.\u001b[39mreshape((\u001b[38;5;241m-\u001b[39m\u001b[38;5;241m1\u001b[39m, \u001b[38;5;241m1\u001b[39m, mp)), axis_names\u001b[38;5;241m=\u001b[39m(\u001b[38;5;124m\"\u001b[39m\u001b[38;5;124mdp\u001b[39m\u001b[38;5;124m\"\u001b[39m, \u001b[38;5;124m\"\u001b[39m\u001b[38;5;124msp\u001b[39m\u001b[38;5;124m\"\u001b[39m, \u001b[38;5;124m\"\u001b[39m\u001b[38;5;124mmp\u001b[39m\u001b[38;5;124m\"\u001b[39m))\n\u001b[1;32m    341\u001b[0m \u001b[38;5;28;01melif\u001b[39;00m device_map\u001b[38;5;241m.\u001b[39mstartswith(\u001b[38;5;124m\"\u001b[39m\u001b[38;5;124mtpu:\u001b[39m\u001b[38;5;124m\"\u001b[39m):\n\u001b[1;32m    342\u001b[0m     tpu_index \u001b[38;5;241m=\u001b[39m \u001b[38;5;28mint\u001b[39m(device_map\u001b[38;5;241m.\u001b[39mpartition(\u001b[38;5;124m\"\u001b[39m\u001b[38;5;124m:\u001b[39m\u001b[38;5;124m\"\u001b[39m)[\u001b[38;5;241m2\u001b[39m])\n",
      "File \u001b[0;32m~/.cache/pypoetry/virtualenvs/saex-U2at97x7-py3.12/lib/python3.12/site-packages/jax/_src/xla_bridge.py:1077\u001b[0m, in \u001b[0;36mdevices\u001b[0;34m(backend)\u001b[0m\n\u001b[1;32m   1052\u001b[0m \u001b[38;5;28;01mdef\u001b[39;00m \u001b[38;5;21mdevices\u001b[39m(\n\u001b[1;32m   1053\u001b[0m     backend: \u001b[38;5;28mstr\u001b[39m \u001b[38;5;241m|\u001b[39m xla_client\u001b[38;5;241m.\u001b[39mClient \u001b[38;5;241m|\u001b[39m \u001b[38;5;28;01mNone\u001b[39;00m \u001b[38;5;241m=\u001b[39m \u001b[38;5;28;01mNone\u001b[39;00m\n\u001b[1;32m   1054\u001b[0m ) \u001b[38;5;241m-\u001b[39m\u001b[38;5;241m>\u001b[39m \u001b[38;5;28mlist\u001b[39m[xla_client\u001b[38;5;241m.\u001b[39mDevice]:\n\u001b[1;32m   1055\u001b[0m \u001b[38;5;250m  \u001b[39m\u001b[38;5;124;03m\"\"\"Returns a list of all devices for a given backend.\u001b[39;00m\n\u001b[1;32m   1056\u001b[0m \n\u001b[1;32m   1057\u001b[0m \u001b[38;5;124;03m  .. currentmodule:: jaxlib.xla_extension\u001b[39;00m\n\u001b[0;32m   (...)\u001b[0m\n\u001b[1;32m   1075\u001b[0m \u001b[38;5;124;03m    List of Device subclasses.\u001b[39;00m\n\u001b[1;32m   1076\u001b[0m \u001b[38;5;124;03m  \"\"\"\u001b[39;00m\n\u001b[0;32m-> 1077\u001b[0m   \u001b[38;5;28;01mreturn\u001b[39;00m \u001b[43mget_backend\u001b[49m\u001b[43m(\u001b[49m\u001b[43mbackend\u001b[49m\u001b[43m)\u001b[49m\u001b[38;5;241m.\u001b[39mdevices()\n",
      "File \u001b[0;32m~/.cache/pypoetry/virtualenvs/saex-U2at97x7-py3.12/lib/python3.12/site-packages/jax/_src/xla_bridge.py:1011\u001b[0m, in \u001b[0;36mget_backend\u001b[0;34m(platform)\u001b[0m\n\u001b[1;32m   1007\u001b[0m \u001b[38;5;129m@lru_cache\u001b[39m(maxsize\u001b[38;5;241m=\u001b[39m\u001b[38;5;28;01mNone\u001b[39;00m)  \u001b[38;5;66;03m# don't use util.memoize because there is no X64 dependence.\u001b[39;00m\n\u001b[1;32m   1008\u001b[0m \u001b[38;5;28;01mdef\u001b[39;00m \u001b[38;5;21mget_backend\u001b[39m(\n\u001b[1;32m   1009\u001b[0m     platform: \u001b[38;5;28;01mNone\u001b[39;00m \u001b[38;5;241m|\u001b[39m \u001b[38;5;28mstr\u001b[39m \u001b[38;5;241m|\u001b[39m xla_client\u001b[38;5;241m.\u001b[39mClient \u001b[38;5;241m=\u001b[39m \u001b[38;5;28;01mNone\u001b[39;00m\n\u001b[1;32m   1010\u001b[0m ) \u001b[38;5;241m-\u001b[39m\u001b[38;5;241m>\u001b[39m xla_client\u001b[38;5;241m.\u001b[39mClient:\n\u001b[0;32m-> 1011\u001b[0m   \u001b[38;5;28;01mreturn\u001b[39;00m \u001b[43m_get_backend_uncached\u001b[49m\u001b[43m(\u001b[49m\u001b[43mplatform\u001b[49m\u001b[43m)\u001b[49m\n",
      "File \u001b[0;32m~/.cache/pypoetry/virtualenvs/saex-U2at97x7-py3.12/lib/python3.12/site-packages/jax/_src/xla_bridge.py:990\u001b[0m, in \u001b[0;36m_get_backend_uncached\u001b[0;34m(platform)\u001b[0m\n\u001b[1;32m    986\u001b[0m   \u001b[38;5;28;01mreturn\u001b[39;00m platform\n\u001b[1;32m    988\u001b[0m platform \u001b[38;5;241m=\u001b[39m (platform \u001b[38;5;129;01mor\u001b[39;00m _XLA_BACKEND\u001b[38;5;241m.\u001b[39mvalue \u001b[38;5;129;01mor\u001b[39;00m _PLATFORM_NAME\u001b[38;5;241m.\u001b[39mvalue \u001b[38;5;129;01mor\u001b[39;00m \u001b[38;5;28;01mNone\u001b[39;00m)\n\u001b[0;32m--> 990\u001b[0m bs \u001b[38;5;241m=\u001b[39m \u001b[43mbackends\u001b[49m\u001b[43m(\u001b[49m\u001b[43m)\u001b[49m\n\u001b[1;32m    991\u001b[0m \u001b[38;5;28;01mif\u001b[39;00m platform \u001b[38;5;129;01mis\u001b[39;00m \u001b[38;5;129;01mnot\u001b[39;00m \u001b[38;5;28;01mNone\u001b[39;00m:\n\u001b[1;32m    992\u001b[0m   platform \u001b[38;5;241m=\u001b[39m canonicalize_platform(platform)\n",
      "File \u001b[0;32m~/.cache/pypoetry/virtualenvs/saex-U2at97x7-py3.12/lib/python3.12/site-packages/jax/_src/xla_bridge.py:890\u001b[0m, in \u001b[0;36mbackends\u001b[0;34m()\u001b[0m\n\u001b[1;32m    888\u001b[0m       \u001b[38;5;28;01melse\u001b[39;00m:\n\u001b[1;32m    889\u001b[0m         err_msg \u001b[38;5;241m+\u001b[39m\u001b[38;5;241m=\u001b[39m \u001b[38;5;124m\"\u001b[39m\u001b[38;5;124m (you may need to uninstall the failing plugin package, or set JAX_PLATFORMS=cpu to skip this backend.)\u001b[39m\u001b[38;5;124m\"\u001b[39m\n\u001b[0;32m--> 890\u001b[0m       \u001b[38;5;28;01mraise\u001b[39;00m \u001b[38;5;167;01mRuntimeError\u001b[39;00m(err_msg)\n\u001b[1;32m    892\u001b[0m \u001b[38;5;28;01massert\u001b[39;00m _default_backend \u001b[38;5;129;01mis\u001b[39;00m \u001b[38;5;129;01mnot\u001b[39;00m \u001b[38;5;28;01mNone\u001b[39;00m\n\u001b[1;32m    893\u001b[0m \u001b[38;5;28;01mif\u001b[39;00m \u001b[38;5;129;01mnot\u001b[39;00m config\u001b[38;5;241m.\u001b[39mjax_platforms\u001b[38;5;241m.\u001b[39mvalue:\n",
      "\u001b[0;31mRuntimeError\u001b[0m: Unable to initialize backend 'tpu': ABORTED: The TPU is already in use by process with pid 2820698. Not attempting to load libtpu.so in this process. (set JAX_PLATFORMS='' to automatically choose an available backend)"
     ]
    }
   ],
   "source": [
    "%load_ext autoreload\n",
    "%autoreload 2\n",
    "from saex.iterable_dataset import IterableDatasetConfig\n",
    "from saex.models.micrlhf_model import MicrlhfModelConfig\n",
    "from saex.haver import ModelHaver, SAEHaver\n",
    "from saex.sae import SAEConfig\n",
    "from more_itertools import chunked\n",
    "\n",
    "\n",
    "n_features = 3072\n",
    "batch_size = 64\n",
    "layer = 12\n",
    "dataset_config = IterableDatasetConfig(\n",
    "    dataset_name=\"nev/openhermes-2.5-phi-format-text\",\n",
    "    # dataset_name=\"nev/generated-phi-format-text\",\n",
    ")\n",
    "model_config = MicrlhfModelConfig(\n",
    "    tokenizer_path=\"microsoft/Phi-3-mini-4k-instruct\",\n",
    "    gguf_path=\"../weights/phi-3-16.gguf\",\n",
    "    device_map=\"auto\",\n",
    "    use_flash=False,\n",
    "    layer=layer,\n",
    "    max_seq_len=128,\n",
    ")\n",
    "haver = ModelHaver(model_config=model_config, dataset_config=dataset_config)"
   ]
  },
  {
   "cell_type": "code",
   "execution_count": null,
   "metadata": {},
   "outputs": [
    {
     "name": "stdout",
     "output_type": "stream",
     "text": [
      "Creating SAE...\n",
      "Loading checkpoint (../weights/phi-l28-gated.safetensors)...\n",
      "Weights restored.\n"
     ]
    }
   ],
   "source": [
    "sae_config = SAEConfig(\n",
    "    n_dimensions=n_features,\n",
    "    sparsity_loss_type=\"l1\",\n",
    "    sparsity_coefficient=0,\n",
    "    batch_size=batch_size,\n",
    "    expansion_factor=32,\n",
    "    use_encoder_bias=True,\n",
    "    remove_decoder_bias=False,\n",
    "    encoder_init_method=\"orthogonal\",\n",
    "    decoder_init_method=\"pseudoinverse\",\n",
    "    decoder_bias_init_method=\"zeros\",\n",
    "    reconstruction_loss_type=\"mse_batchnorm\",\n",
    "    project_updates_from_dec=True,\n",
    "    death_loss_type=\"dm_ghost_grads\",\n",
    "    death_penalty_threshold=5e-7,\n",
    "    death_penalty_coefficient=0.25,\n",
    "    dead_after=1_000,\n",
    "    buffer_size=2_000,\n",
    "    restrict_dec_norm=\"exact\",\n",
    "    sparsity_tracking_epsilon=0.1,\n",
    "    is_gated=False,\n",
    ")\n",
    "haver_sae = SAEHaver(\n",
    "    sae_config=sae_config,\n",
    "    mesh=haver.mesh,\n",
    "    sae_restore=f\"../weights/phi-l{layer}.safetensors\")"
   ]
  },
  {
   "cell_type": "code",
   "execution_count": 3,
   "metadata": {},
   "outputs": [
    {
     "name": "stderr",
     "output_type": "stream",
     "text": [
      "0it [00:00, ?it/s]"
     ]
    },
    {
     "name": "stderr",
     "output_type": "stream",
     "text": [
      "1088it [00:55, 46.11it/s, l0=333.19855, loss_diff=0.36061287]"
     ]
    },
    {
     "ename": "",
     "evalue": "",
     "output_type": "error",
     "traceback": [
      "\u001b[1;31mThe Kernel crashed while executing code in the current cell or a previous cell. \n",
      "\u001b[1;31mPlease review the code in the cell(s) to identify a possible cause of the failure. \n",
      "\u001b[1;31mClick <a href='https://aka.ms/vscodeJupyterKernelCrash'>here</a> for more info. \n",
      "\u001b[1;31mView Jupyter <a href='command:jupyter.viewOutput'>log</a> for further details."
     ]
    }
   ],
   "source": [
    "from collections import defaultdict\n",
    "from tqdm import tqdm\n",
    "import jax.numpy as jnp\n",
    "import numpy as np\n",
    "import equinox as eqx\n",
    "import jax\n",
    "\n",
    "\n",
    "tokens_processed = 0\n",
    "activ_cache = defaultdict(list)\n",
    "jsae = eqx.filter_jit(lambda s, x: s.encode(x))\n",
    "for texts in chunked(bar := tqdm(haver.create_dataset()), batch_size):\n",
    "    activations, model_misc = haver.model(texts)\n",
    "    mask = model_misc.get(\"mask\")\n",
    "    # it's like sae but jit\n",
    "    pre_relu, hiddens = jsae(haver.sae, activations)\n",
    "    # pre_relu, hiddens = haver_sae.sae.encode(activations)\n",
    "    \n",
    "    # loss, loss_reconstructed = haver.model.eval_loss(texts, haver_sae.sae)\n",
    "    # bar.set_postfix(l0=((hiddens != 0).sum(-1) * mask).mean() / mask.mean(),\n",
    "    #                 loss_diff=loss_reconstructed - loss)\n",
    "\n",
    "    # indices = jnp.arange(len(mask)) + tokens_processed\n",
    "    # for feat in (hiddens != 0).any(axis=0).nonzero()[0]:\n",
    "    #     greats = hiddens[:, feat]\n",
    "    #     activ_cache[int(feat)].extend(zip(list(indices[mask]), list(greats[mask])))\n",
    "    hiddens = jax.device_put(hiddens.astype(jnp.float16), jax.devices(\"cpu\")[0])\n",
    "    # for i, h in zip(list(jnp.arange(len(hiddens))[mask]), list(hiddens[mask])):\n",
    "    #     active_features = np.nonzero(h)[0]\n",
    "    #     feature_activations = h[active_features]\n",
    "    #     for f, a in zip(active_features, feature_activations):\n",
    "    #         activ_cache[int(f)].append((tokens_processed + i, float(a)))\n",
    "    # for i, h in enumerate(hiddens):\n",
    "    #     if not mask[i]:\n",
    "    #         continue\n",
    "    #     active_features = np.nonzero(h)[0]\n",
    "    #     feature_activations = h[active_features]\n",
    "    #     for f, a in zip(active_features, feature_activations):\n",
    "    #         activ_cache[int(f)].append((tokens_processed + i, float(a)))\n",
    "    # tokens_processed += hiddens.shape[0]"
   ]
  },
  {
   "cell_type": "code",
   "execution_count": null,
   "metadata": {},
   "outputs": [
    {
     "name": "stdout",
     "output_type": "stream",
     "text": [
      "8.138020833333333e-05\n"
     ]
    },
    {
     "name": "stderr",
     "output_type": "stream",
     "text": [
      "0it [00:00, ?it/s]"
     ]
    },
    {
     "name": "stderr",
     "output_type": "stream",
     "text": [
      "581it [00:01, 580.69it/s]"
     ]
    },
    {
     "name": "stdout",
     "output_type": "stream",
     "text": [
      "11.90625 '<|endoftext|><|endoftext|><|endoftext|><|endoftext|><|endoftext|><|endoftext|><|endoftext|><|endoftext|><|endoftext|><|endoftext|><|endoftext|><|endoftext|><s><|assistant|> a). No;<|end|><s><|assistant|> Stream of conscious' 'ness: First find'\n",
      "6.8046875 '<|endoftext|><|endoftext|><|endoftext|><|endoftext|><|endoftext|><|endoftext|><|endoftext|><|endoftext|><|endoftext|><|endoftext|><|endoftext|><s><|assistant|> a). No;<|end|><s><|assistant|> Stream of consciousness' ': First find the'\n"
     ]
    },
    {
     "name": "stderr",
     "output_type": "stream",
     "text": [
      "1151it [00:02, 534.58it/s]\n"
     ]
    },
    {
     "name": "stdout",
     "output_type": "stream",
     "text": [
      "10.8125 '<s><|assistant|> Question: Is it possible for a person to survive without ever drinking water?\\n\\nStream of conscious' 'ness reasoning: When'\n",
      "7.23828125 '<|assistant|> Question: Is it possible for a person to survive without ever drinking water?\\n\\nStream of consciousness' 'reasoning: When considering'\n",
      "0.0007527669270833334\n"
     ]
    },
    {
     "name": "stderr",
     "output_type": "stream",
     "text": [
      "201it [00:00, 409.81it/s]"
     ]
    },
    {
     "name": "stdout",
     "output_type": "stream",
     "text": [
      "6.08984375 'using the Quicksort algorithm. Quicksort is a divide and conquer algorithm with an average time complexity of O(n log' 'n). It is'\n"
     ]
    },
    {
     "name": "stderr",
     "output_type": "stream",
     "text": [
      "576it [00:01, 552.21it/s]"
     ]
    },
    {
     "name": "stdout",
     "output_type": "stream",
     "text": [
      "18.921875 '\\n        is_prime = True\\n        for divisor in range(2, int(num**0.5' ')<s><|assistant|> To'\n"
     ]
    },
    {
     "name": "stderr",
     "output_type": "stream",
     "text": [
      "704it [00:01, 576.99it/s]"
     ]
    },
    {
     "name": "stdout",
     "output_type": "stream",
     "text": [
      "6.69140625 'equation, you can use the discriminant formula. The discriminant is given as b^2 - 4' 'ac. \\n'\n"
     ]
    },
    {
     "name": "stderr",
     "output_type": "stream",
     "text": [
      "852it [00:01, 649.17it/s]"
     ]
    },
    {
     "name": "stdout",
     "output_type": "stream",
     "text": [
      "8.578125 '<|endoftext|><|endoftext|><|endoftext|><|endoftext|><|endoftext|><|endoftext|><|endoftext|><|endoftext|><|endoftext|><|endoftext|><|endoftext|><|endoftext|><|endoftext|><|endoftext|><|endoftext|><|endoftext|><|endoftext|><|endoftext|><|endoftext|><|endoftext|><s><|assistant|> The root' 'that does not arise'\n"
     ]
    },
    {
     "name": "stderr",
     "output_type": "stream",
     "text": [
      "1123it [00:02, 666.43it/s]"
     ]
    },
    {
     "name": "stdout",
     "output_type": "stream",
     "text": [
      "6.875 \"\\nCori's current age: 3 years\\nCori<s><|assistant|> I recall that the sum of the roots\" 'of a quadratic equation'\n"
     ]
    },
    {
     "name": "stderr",
     "output_type": "stream",
     "text": [
      "1340it [00:02, 664.49it/s]"
     ]
    },
    {
     "name": "stdout",
     "output_type": "stream",
     "text": [
      "11.1015625 'of x.\\n\\nFirst, notice that the numerator (4x^2 -<s><|assistant|> To simplify the radical' 'expression $\\\\sqrt{'\n",
      "27.59375 '\\n\\nFirst, notice that the numerator (4x^2 -<s><|assistant|> To simplify the radical expression $\\\\sqrt' '{27}$,'\n",
      "27.78125 'largest perfect square that divides 27 is 9. We can rewrite the expression as:\\n\\n$\\\\sqrt' '{27}'\n",
      "26.046875 '27 is 9. We can rewrite the expression as:\\n\\n$\\\\sqrt{27} = \\\\sqrt' '{9 \\\\times'\n"
     ]
    },
    {
     "name": "stderr",
     "output_type": "stream",
     "text": [
      "1535it [00:02, 549.29it/s]\n"
     ]
    },
    {
     "name": "stdout",
     "output_type": "stream",
     "text": [
      "6.9921875 '- 3 = 0, we can use the quadratic formula:\\n\\nx = (-b ± √' '(b^2'\n",
      "0.0018208821614583333\n"
     ]
    },
    {
     "name": "stderr",
     "output_type": "stream",
     "text": [
      "384it [00:00, 509.56it/s]"
     ]
    },
    {
     "name": "stdout",
     "output_type": "stream",
     "text": [
      "20.671875 '3/5774375) answer. The problem can be fixed by adding `?parseTime=' 'true` to the'\n"
     ]
    },
    {
     "name": "stderr",
     "output_type": "stream",
     "text": [
      "576it [00:01, 542.75it/s]"
     ]
    },
    {
     "name": "stdout",
     "output_type": "stream",
     "text": [
      "6.85546875 'the initial idea might seem uncomp<s><|assistant|> The issue you are facing is because you have set the packaging type to' '`pom` in'\n",
      "7.20703125 'initial idea might seem uncomp<s><|assistant|> The issue you are facing is because you have set the packaging type to `' 'pom` in your'\n",
      "6.234375 'osleep`:\\n\\n```\\nsys_nanosleep: eax = 162, ebx =' 'struct timespec *'\n"
     ]
    },
    {
     "name": "stderr",
     "output_type": "stream",
     "text": [
      "704it [00:01, 557.44it/s]"
     ]
    },
    {
     "name": "stdout",
     "output_type": "stream",
     "text": [
      "7.26953125 \"HTTP server that provides standard GET and HEAD request handlers. To add custom headers like 'Access-Control-Allow-\" \"Origin', you would\"\n",
      "6.38671875 \"server that provides standard GET and HEAD request handlers. To add custom headers like 'Access-Control-Allow-Origin\" \"', you would need\"\n"
     ]
    },
    {
     "name": "stderr",
     "output_type": "stream",
     "text": [
      "832it [00:01, 551.12it/s]"
     ]
    },
    {
     "name": "stdout",
     "output_type": "stream",
     "text": [
      "11.859375 'trend line model, you can use the following shell command:\\n```\\nawk \\'BEGIN {OFS=\"' '\\\\t\"} {'\n",
      "7.83984375 'end line model, you can use the following shell command:\\n```\\nawk \\'BEGIN {OFS=\"\\\\' 't\"} {print'\n",
      "7.546875 ', including pink and blue, red roses are the most<s><|assistant|> It seems that the error \"multipart:' 'NextPart: buf'\n"
     ]
    },
    {
     "name": "stderr",
     "output_type": "stream",
     "text": [
      "1024it [00:02, 550.48it/s]"
     ]
    },
    {
     "name": "stdout",
     "output_type": "stream",
     "text": [
      "6.328125 '\\'s an example of an HTML/CSS form that you can use:\\n\\n```html\\n<form action=\"' '/\" method=\"post'\n",
      "18.734375 'example of an HTML/CSS form that you can use:\\n\\n```html\\n<form action=\"/\" method=\"' 'post\">\\n '\n"
     ]
    },
    {
     "name": "stderr",
     "output_type": "stream",
     "text": [
      "1152it [00:02, 563.15it/s]"
     ]
    },
    {
     "name": "stdout",
     "output_type": "stream",
     "text": [
      "6.98828125 'R program that can help you achieve that:\\n\\n```R\\n# Set the random seed\\nset.seed(' '123)'\n"
     ]
    },
    {
     "name": "stderr",
     "output_type": "stream",
     "text": [
      "1280it [00:02, 549.94it/s]"
     ]
    },
    {
     "name": "stdout",
     "output_type": "stream",
     "text": [
      "6.33203125 'SQL query:\\n\\n```SQL\\nSELECT name, salary, job_title\\nFROM employees\\nWHERE department =' \"'IT'\\n\"\n",
      "7.05078125 \"salary, job_title\\nFROM employees\\nWHERE department = 'IT'\\nAND years_experience >\" '10\\n'\n",
      "7.1640625 \"namespace :test do \\n    task :reset do \\n      ActiveRecord::Base.establish_connection('\" 'test<s><|assistant|> The'\n",
      "7.08984375 's.split<s><|assistant|> **\\n\\nThe issue here is that when you define `has_many :managers,' 'through: :list'\n",
      "12.84375 'split<s><|assistant|> **\\n\\nThe issue here is that when you define `has_many :managers, through:' ':listing_'\n"
     ]
    },
    {
     "name": "stderr",
     "output_type": "stream",
     "text": [
      "1599it [00:03, 514.45it/s]\n"
     ]
    },
    {
     "name": "stdout",
     "output_type": "stream",
     "text": [
      "0.005889892578125\n"
     ]
    },
    {
     "name": "stderr",
     "output_type": "stream",
     "text": [
      "320it [00:01, 403.92it/s]"
     ]
    },
    {
     "name": "stdout",
     "output_type": "stream",
     "text": [
      "6.53125 '<|endoftext|><|endoftext|><|endoftext|><|endoftext|><|endoftext|><|endoftext|><|endoftext|><s><|assistant|> This should be the solution: Consulting a loaf of bread is' 'not a logical or'\n",
      "7.53515625 '<|endoftext|><|endoftext|><|endoftext|><|endoftext|><|endoftext|><|endoftext|><s><|assistant|> This should be the solution: Consulting a loaf of bread is not' 'a logical or practical'\n",
      "6.0546875 '<|endoftext|><|endoftext|><|endoftext|><s><|assistant|> This should be the solution: Consulting a loaf of bread is not a logical or' 'practical method for ens'\n",
      "7.7109375 '<|endoftext|><s><|assistant|> This should be the solution: Consulting a loaf of bread is not a logical or practical method' 'for ensuring correct'\n",
      "8.1015625 \"for ensuring correctness in a task. The answer is Sentence B.<|end|><s><|assistant|> Alright, let'\" 's break it down'\n"
     ]
    },
    {
     "name": "stderr",
     "output_type": "stream",
     "text": [
      "448it [00:01, 431.96it/s]"
     ]
    },
    {
     "name": "stdout",
     "output_type": "stream",
     "text": [
      "13.8046875 'A: \"A basketball team has five players.\"\\n- Sentence B: \"A football team has five players.\"' '\\n\\nAnswer:'\n"
     ]
    },
    {
     "name": "stderr",
     "output_type": "stream",
     "text": [
      "704it [00:01, 458.48it/s]"
     ]
    },
    {
     "name": "stdout",
     "output_type": "stream",
     "text": [
      "6.6015625 \"to have on hand for various situations: a rope or a woman's bathing suit?\\n\\nAnswer:\" 'A rope is'\n"
     ]
    },
    {
     "name": "stderr",
     "output_type": "stream",
     "text": [
      "960it [00:02, 437.50it/s]"
     ]
    },
    {
     "name": "stdout",
     "output_type": "stream",
     "text": [
      "6.19140625 'each flight of stairs has 10 / 1.5 = 6.67 steps.\\nSince' 'John climbed up'\n"
     ]
    },
    {
     "name": "stderr",
     "output_type": "stream",
     "text": [
      "1088it [00:02, 422.69it/s]"
     ]
    },
    {
     "name": "stdout",
     "output_type": "stream",
     "text": [
      "9.4296875 '<|endoftext|><|endoftext|><|endoftext|><|endoftext|><|endoftext|><s><|assistant|> Yes, the statement \"serious joke\" is an oxymoron because' '\"serious\"'\n",
      "7.15234375 '<|endoftext|><s><|assistant|> Yes, the statement \"serious joke\" is an oxymoron because \"serious\"' 'and \"joke'\n",
      "6.0625 'the statement \"serious joke\" is an oxymoron because \"serious\" and \"joke\"' 'have opposite meanings'\n",
      "7.39453125 '\"Serious\" suggests something important or grave, while \"joke\" suggests something humorous or lighthearted.' '<|end|><s><|assistant|> The'\n",
      "7.1875 'the right answer to the question \"molecules of _ initiate protein synthesis\" is \"nektar,\"' 'given that molecules'\n",
      "6.4609375 'answer to the question \"molecules of _ initiate protein synthesis\" is \"nektar,\" given that' 'molecules of t'\n",
      "6.84375 'relation to the information given:\\n\\n1. Ignore: Since he found the email funny, it is unlikely' 'that he would simply'\n"
     ]
    },
    {
     "name": "stderr",
     "output_type": "stream",
     "text": [
      "1216it [00:03, 426.70it/s]"
     ]
    },
    {
     "name": "stdout",
     "output_type": "stream",
     "text": [
      "9.1328125 'can achieve this:\\n<s><|assistant|> Question: Is it possible for a person to survive without ever drinking water?' '\\n\\nStream of'\n",
      "7.46875 'to survive without ever drinking water?\\n\\nStream of consciousness reasoning: When considering human survival, it' 'is essential to take'\n"
     ]
    },
    {
     "name": "stderr",
     "output_type": "stream",
     "text": [
      "1408it [00:03, 437.92it/s]"
     ]
    },
    {
     "name": "stdout",
     "output_type": "stream",
     "text": [
      "9.46875 'M^2<s><|assistant|> Question: Can a guy perform mirror ball sport while stuffing himself into a cannon?' '\\n\\nImplicit'\n",
      "6.74609375 'Can a guy perform mirror ball sport while stuffing himself into a cannon?\\n\\nImplicit rationale:' 'The scenario described seems'\n",
      "10.484375 'a guy perform mirror ball sport while stuffing himself into a cannon?\\n\\nImplicit rationale: The' 'scenario described seems imp'\n",
      "11.390625 'guy perform mirror ball sport while stuffing himself into a cannon?\\n\\nImplicit rationale: The scenario' 'described seems implaus'\n",
      "8.1640625 'y perform mirror ball sport while stuffing himself into a cannon?\\n\\nImplicit rationale: The scenario described' 'seems implausible'\n",
      "10.6640625 'perform mirror ball sport while stuffing himself into a cannon?\\n\\nImplicit rationale: The scenario described seems' 'implausible and'\n",
      "8.765625 'mirror ball sport while stuffing himself into a cannon?\\n\\nImplicit rationale: The scenario described seems imp' 'lausible and dangerous'\n",
      "12.8515625 'sport while stuffing himself into a cannon?\\n\\nImplicit rationale: The scenario described seems implausible' 'and dangerous as it'\n",
      "7.5390625 'while stuffing himself into a cannon?\\n\\nImplicit rationale: The scenario described seems implausible and' 'dangerous as it comb'\n",
      "9.5078125 'ing himself into a cannon?\\n\\nImplicit rationale: The scenario described seems implausible and dangerous as' 'it combines the'\n",
      "9.734375 'a cannon?\\n\\nImplicit rationale: The scenario described seems implausible and dangerous as it combines' 'the act of performing'\n",
      "6.87890625 'cannon?\\n\\nImplicit rationale: The scenario described seems implausible and dangerous as it combines the' 'act of performing a'\n",
      "9.1875 '?\\n\\nImplicit rationale: The scenario described seems implausible and dangerous as it combines the act of' 'performing a sport involving'\n",
      "6.04296875 'it combines the act of performing a sport involving a mirror ball (possibly dancing or gymnastics)' 'with the<|endoftext|><|endoftext|>'\n"
     ]
    },
    {
     "name": "stderr",
     "output_type": "stream",
     "text": [
      "1472it [00:03, 431.27it/s]"
     ]
    },
    {
     "name": "stdout",
     "output_type": "stream",
     "text": [
      "7.36328125 '<|endoftext|><|endoftext|><|endoftext|><|endoftext|><s><|assistant|> The idea that people swallow spiders during sleep is a myth. Spiders are unlikely' 'to intentionally craw'\n",
      "7.30078125 '<|endoftext|><|endoftext|><|endoftext|><s><|assistant|> The idea that people swallow spiders during sleep is a myth. Spiders are unlikely to' 'intentionally crawl'\n",
      "7.3203125 \"spiders during sleep is a myth. Spiders are unlikely to intentionally crawl into a person's mouth,\" 'and most individuals would'\n",
      "10.15625 \"iders during sleep is a myth. Spiders are unlikely to intentionally crawl into a person's mouth, and\" 'most individuals would w'\n",
      "6.421875 \"is a myth. Spiders are unlikely to intentionally crawl into a person's mouth, and most individuals would\" 'wake up if'\n",
      "9.03125 'In the sentence \"A lage Coco Cola sign sitting in a parking lot.\", the word \"lage\"' 'could potential be a'\n",
      "6.07421875 'sitting in a parking lot.\", the word \"lage\" could potential be a typo.<s><|assistant|> Sure! Here\\'' 's an example solution'\n",
      "13.5703125 'one is not accurate?\\nOptions:\\n- Sentence A: \"He dissolved sugar in the ocean water.\"' '\\n- Sentence'\n",
      "6.3359375 'is not accurate?\\nOptions:\\n- Sentence A: \"He dissolved sugar in the ocean water.\"\\n' '- Sentence B'\n",
      "12.4453125 'accurate?\\nOptions:\\n- Sentence A: \"He dissolved sugar in the ocean water.\"\\n- Sent' 'ence B: \"'\n",
      "7.03125 '.\"\\n- Sentence B: \"He dissolved salt in the ocean water.\"\\n\\nAnswer: Sentence A' '<|end|><|endoftext|><|endoftext|><|endoftext|>'\n"
     ]
    },
    {
     "name": "stderr",
     "output_type": "stream",
     "text": [
      "1599it [00:03, 406.67it/s]\n"
     ]
    },
    {
     "name": "stdout",
     "output_type": "stream",
     "text": [
      "0.0005289713541666666\n"
     ]
    },
    {
     "name": "stderr",
     "output_type": "stream",
     "text": [
      "1024it [00:04, 347.26it/s]"
     ]
    },
    {
     "name": "stdout",
     "output_type": "stream",
     "text": [
      "23.0 'that you can use:\\n\\n```html\\n<form action=\"/\" method=\"post\">\\n  <label for' '=\"email\">Email'\n",
      "16.34375 'post\">\\n  <label for=\"email\">Email:</label>\\n  <input type=\"text\" name' '=\"email\" id'\n",
      "29.265625 '<label for=\"email\">Email:</label>\\n  <input type=\"text\" name=\"email\" id' '=\"email<s><|assistant|>'\n",
      "11.0546875 'label for=\"email\">Email:</label>\\n  <input type=\"text\" name=\"email\" id=\"' 'email<s><|assistant|> First'\n",
      "9.8359375 'the `FormInfo` struct. The fields in your form, `name=\"fields[0]\"` and `name' '=\"fields[1'\n"
     ]
    },
    {
     "name": "stderr",
     "output_type": "stream",
     "text": [
      "1407it [00:05, 280.00it/s]\n"
     ]
    },
    {
     "ename": "KeyboardInterrupt",
     "evalue": "",
     "output_type": "error",
     "traceback": [
      "\u001b[0;31m---------------------------------------------------------------------------\u001b[0m",
      "\u001b[0;31mKeyboardInterrupt\u001b[0m                         Traceback (most recent call last)",
      "Cell \u001b[0;32mIn[14], line 30\u001b[0m\n\u001b[1;32m     28\u001b[0m             \u001b[38;5;28;01mbreak\u001b[39;00m\n\u001b[1;32m     29\u001b[0m \u001b[38;5;28;01mfor\u001b[39;00m i \u001b[38;5;129;01min\u001b[39;00m \u001b[38;5;28mrange\u001b[39m(\u001b[38;5;241m10_000\u001b[39m, \u001b[38;5;241m10_0100\u001b[39m):\n\u001b[0;32m---> 30\u001b[0m     \u001b[43mvisualize\u001b[49m\u001b[43m(\u001b[49m\u001b[43mi\u001b[49m\u001b[43m)\u001b[49m\n",
      "Cell \u001b[0;32mIn[14], line 16\u001b[0m, in \u001b[0;36mvisualize\u001b[0;34m(feature, thresh)\u001b[0m\n\u001b[1;32m     14\u001b[0m \u001b[38;5;28;01mfor\u001b[39;00m texts \u001b[38;5;129;01min\u001b[39;00m chunked(tqdm(haver\u001b[38;5;241m.\u001b[39mcreate_dataset()), batch_size):\n\u001b[1;32m     15\u001b[0m     toks \u001b[38;5;241m=\u001b[39m haver\u001b[38;5;241m.\u001b[39mmodel\u001b[38;5;241m.\u001b[39mto_tokens(texts)\n\u001b[0;32m---> 16\u001b[0m     all_tokens \u001b[38;5;241m=\u001b[39m \u001b[43m[\u001b[49m\u001b[43mt\u001b[49m\u001b[43m \u001b[49m\u001b[38;5;28;43;01mfor\u001b[39;49;00m\u001b[43m \u001b[49m\u001b[43mtok\u001b[49m\u001b[43m \u001b[49m\u001b[38;5;129;43;01min\u001b[39;49;00m\u001b[43m \u001b[49m\u001b[43mtoks\u001b[49m\u001b[43m \u001b[49m\u001b[38;5;28;43;01mfor\u001b[39;49;00m\u001b[43m \u001b[49m\u001b[43mt\u001b[49m\u001b[43m \u001b[49m\u001b[38;5;129;43;01min\u001b[39;49;00m\u001b[43m \u001b[49m\u001b[43mtok\u001b[49m\u001b[43m]\u001b[49m\n\u001b[1;32m     17\u001b[0m     proc \u001b[38;5;241m=\u001b[39m \u001b[38;5;28msum\u001b[39m(\u001b[38;5;28mmap\u001b[39m(\u001b[38;5;28mlen\u001b[39m, toks))\n\u001b[1;32m     18\u001b[0m     all_token_ids \u001b[38;5;241m=\u001b[39m [tokens_viewed \u001b[38;5;241m+\u001b[39m i \u001b[38;5;28;01mfor\u001b[39;00m i \u001b[38;5;129;01min\u001b[39;00m \u001b[38;5;28mrange\u001b[39m(proc)]\n",
      "File \u001b[0;32m~/.cache/pypoetry/virtualenvs/saex-U2at97x7-py3.12/lib/python3.12/site-packages/jax/_src/array.py:344\u001b[0m, in \u001b[0;36m<genexpr>\u001b[0;34m(.0)\u001b[0m\n\u001b[1;32m    342\u001b[0m \u001b[38;5;28;01massert\u001b[39;00m \u001b[38;5;28mself\u001b[39m\u001b[38;5;241m.\u001b[39mis_fully_replicated \u001b[38;5;129;01mor\u001b[39;00m \u001b[38;5;28mself\u001b[39m\u001b[38;5;241m.\u001b[39mis_fully_addressable\n\u001b[1;32m    343\u001b[0m \u001b[38;5;28;01mif\u001b[39;00m dispatch\u001b[38;5;241m.\u001b[39mis_single_device_sharding(\u001b[38;5;28mself\u001b[39m\u001b[38;5;241m.\u001b[39msharding) \u001b[38;5;129;01mor\u001b[39;00m \u001b[38;5;28mself\u001b[39m\u001b[38;5;241m.\u001b[39mis_fully_replicated:\n\u001b[0;32m--> 344\u001b[0m   \u001b[38;5;28;01mreturn\u001b[39;00m (sl \u001b[38;5;28;01mfor\u001b[39;00m chunk \u001b[38;5;129;01min\u001b[39;00m \u001b[38;5;28mself\u001b[39m\u001b[38;5;241m.\u001b[39m_chunk_iter(\u001b[38;5;241m100\u001b[39m) \u001b[38;5;28;01mfor\u001b[39;00m sl \u001b[38;5;129;01min\u001b[39;00m \u001b[43mchunk\u001b[49m\u001b[38;5;241;43m.\u001b[39;49m\u001b[43m_unstack\u001b[49m\u001b[43m(\u001b[49m\u001b[43m)\u001b[49m)  \u001b[38;5;66;03m# type: ignore\u001b[39;00m\n\u001b[1;32m    345\u001b[0m \u001b[38;5;28;01melif\u001b[39;00m \u001b[38;5;28misinstance\u001b[39m(\u001b[38;5;28mself\u001b[39m\u001b[38;5;241m.\u001b[39msharding, PmapSharding):\n\u001b[1;32m    346\u001b[0m   \u001b[38;5;28;01mreturn\u001b[39;00m (\u001b[38;5;28mself\u001b[39m[i] \u001b[38;5;28;01mfor\u001b[39;00m i \u001b[38;5;129;01min\u001b[39;00m \u001b[38;5;28mrange\u001b[39m(\u001b[38;5;28mself\u001b[39m\u001b[38;5;241m.\u001b[39mshape[\u001b[38;5;241m0\u001b[39m]))  \u001b[38;5;66;03m# type: ignore\u001b[39;00m\n",
      "\u001b[0;31mKeyboardInterrupt\u001b[0m: "
     ]
    }
   ],
   "source": [
    "def visualize(feature, thresh=6.0):\n",
    "    cache = activ_cache[feature]\n",
    "    if not cache:    \n",
    "        return\n",
    "    tokens, activs = zip(*cache)\n",
    "    if max(activs) < thresh:\n",
    "        return\n",
    "    freq = len(tokens) / tokens_processed\n",
    "    print(freq)\n",
    "    if freq > 0.03:\n",
    "        return\n",
    "    tokens_viewed = 0\n",
    "    sli = 24\n",
    "    for texts in chunked(tqdm(haver.create_dataset()), batch_size):\n",
    "        toks = haver.model.to_tokens(texts)\n",
    "        all_tokens = [t for tok in toks for t in tok]\n",
    "        proc = sum(map(len, toks))\n",
    "        all_token_ids = [tokens_viewed + i for i in range(proc)]\n",
    "        for i, t in enumerate(all_token_ids):\n",
    "            if t in tokens:\n",
    "                activ = activs[tokens.index(t)]\n",
    "                if activ < thresh:\n",
    "                    continue\n",
    "                print(activ, repr(haver.model.decode(all_tokens[max(0, i - sli + 1):i+1])),\n",
    "                      repr(haver.model.decode(all_tokens[i+1:i+5])))\n",
    "        tokens_viewed += proc\n",
    "        if tokens_viewed > max(tokens):\n",
    "            break\n",
    "for i in range(10_000, 10_0100):\n",
    "    visualize(i)"
   ]
  },
  {
   "cell_type": "code",
   "execution_count": null,
   "metadata": {},
   "outputs": [],
   "source": []
  }
 ],
 "metadata": {
  "kernelspec": {
   "display_name": "saex-U2at97x7-py3.12",
   "language": "python",
   "name": "python3"
  },
  "language_info": {
   "codemirror_mode": {
    "name": "ipython",
    "version": 3
   },
   "file_extension": ".py",
   "mimetype": "text/x-python",
   "name": "python",
   "nbconvert_exporter": "python",
   "pygments_lexer": "ipython3",
   "version": "3.12.3"
  }
 },
 "nbformat": 4,
 "nbformat_minor": 2
}
