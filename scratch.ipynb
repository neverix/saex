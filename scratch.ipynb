{
 "cells": [
  {
   "cell_type": "code",
   "execution_count": 1,
   "metadata": {},
   "outputs": [],
   "source": [
    "%load_ext autoreload\n",
    "%autoreload 2"
   ]
  },
  {
   "cell_type": "code",
   "execution_count": 2,
   "metadata": {},
   "outputs": [],
   "source": [
    "import jax_smi\n",
    "jax_smi.initialise_tracking()"
   ]
  },
  {
   "cell_type": "code",
   "execution_count": 9,
   "metadata": {},
   "outputs": [
    {
     "name": "stderr",
     "output_type": "stream",
     "text": [
      "/home/neverix/.cache/pypoetry/virtualenvs/saex-U2at97x7-py3.12/lib/python3.12/site-packages/huggingface_hub/file_download.py:1132: FutureWarning: `resume_download` is deprecated and will be removed in version 1.0.0. Downloads always resume when possible. If you want to force a new download, use `force_download=True`.\n",
      "  warnings.warn(\n",
      "Special tokens have been added in the vocabulary, make sure the associated word embeddings are fine-tuned or trained.\n"
     ]
    },
    {
     "name": "stdout",
     "output_type": "stream",
     "text": [
      "Loading model...\n",
      "Creating buffer...\n",
      "Creating SAE...\n",
      "Loading dataset...\n",
      "Training for 100000 iterations\n",
      "Sparsity coefficient: 5e-06\n"
     ]
    },
    {
     "data": {
      "text/html": [
       "wandb version 0.17.0 is available!  To upgrade, please run:\n",
       " $ pip install wandb --upgrade"
      ],
      "text/plain": [
       "<IPython.core.display.HTML object>"
      ]
     },
     "metadata": {},
     "output_type": "display_data"
    },
    {
     "data": {
      "text/html": [
       "Tracking run with wandb version 0.16.6"
      ],
      "text/plain": [
       "<IPython.core.display.HTML object>"
      ]
     },
     "metadata": {},
     "output_type": "display_data"
    },
    {
     "data": {
      "text/html": [
       "Run data is saved locally in <code>/home/neverix/saex/wandb/run-20240510_022852-65meh7tg</code>"
      ],
      "text/plain": [
       "<IPython.core.display.HTML object>"
      ]
     },
     "metadata": {},
     "output_type": "display_data"
    },
    {
     "data": {
      "text/html": [
       "Syncing run <strong><a href='https://wandb.ai/neverix/saex/runs/65meh7tg' target=\"_blank\">jumping-breeze-555</a></strong> to <a href='https://wandb.ai/neverix/saex' target=\"_blank\">Weights & Biases</a> (<a href='https://wandb.me/run' target=\"_blank\">docs</a>)<br/>"
      ],
      "text/plain": [
       "<IPython.core.display.HTML object>"
      ]
     },
     "metadata": {},
     "output_type": "display_data"
    },
    {
     "data": {
      "text/html": [
       " View project at <a href='https://wandb.ai/neverix/saex' target=\"_blank\">https://wandb.ai/neverix/saex</a>"
      ],
      "text/plain": [
       "<IPython.core.display.HTML object>"
      ]
     },
     "metadata": {},
     "output_type": "display_data"
    },
    {
     "data": {
      "text/html": [
       " View run at <a href='https://wandb.ai/neverix/saex/runs/65meh7tg' target=\"_blank\">https://wandb.ai/neverix/saex/runs/65meh7tg</a>"
      ],
      "text/plain": [
       "<IPython.core.display.HTML object>"
      ]
     },
     "metadata": {},
     "output_type": "display_data"
    },
    {
     "name": "stdout",
     "output_type": "stream",
     "text": [
      "Learning rate: 0.0004 warmed up for 128 iterations and cycled every 100000 iterations\n"
     ]
    },
    {
     "data": {
      "application/vnd.jupyter.widget-view+json": {
       "model_id": "cf2ecc0493f04197abf0fad903afc733",
       "version_major": 2,
       "version_minor": 0
      },
      "text/plain": [
       "  0%|          | 0/100000 [00:00<?, ?it/s]"
      ]
     },
     "metadata": {},
     "output_type": "display_data"
    },
    {
     "name": "stdout",
     "output_type": "stream",
     "text": [
      "Exiting early...\n"
     ]
    },
    {
     "data": {
      "application/vnd.jupyter.widget-view+json": {
       "model_id": "42c61f0a7bab48279cea159e2089d00d",
       "version_major": 2,
       "version_minor": 0
      },
      "text/plain": [
       "VBox(children=(Label(value='0.032 MB of 0.032 MB uploaded\\r'), FloatProgress(value=1.0, max=1.0)))"
      ]
     },
     "metadata": {},
     "output_type": "display_data"
    },
    {
     "data": {
      "text/html": [
       "<style>\n",
       "    table.wandb td:nth-child(1) { padding: 0 10px; text-align: left ; width: auto;} td:nth-child(2) {text-align: left ; width: 100%}\n",
       "    .wandb-row { display: flex; flex-direction: row; flex-wrap: wrap; justify-content: flex-start; width: 100% }\n",
       "    .wandb-col { display: flex; flex-direction: column; flex-basis: 100%; flex: 1; padding: 10px; }\n",
       "    </style>\n",
       "<div class=\"wandb-row\"><div class=\"wandb-col\"><h3>Run history:</h3><br/><table class=\"wandb\"><tr><td>dead</td><td>▁▁▁▁▁▂▂▃▄▃▅▄▃▃█▆▃▆▄▆▄▄▇▃▃▄▄▄▄▆▄▄▄▄▄▅▄▃▄▂</td></tr><tr><td>l0</td><td>█▂▁▁▁▁▁▁▁▁▁▁▁▁▁▁▁▁▁▁▁▁▁▁▁▁▁▁▁▁▁▁▁▁▁▁▁▁▁▁</td></tr><tr><td>loss</td><td>█▄▃▂▃▃▃▂▂▂▂▂▂▂▂▂▂▁▂▂▁▂▂▂▂▂▁▁▁▂▂▁▁▂▂▂▂▂▂▂</td></tr><tr><td>loss_clean</td><td>▅▄▂▇▅▇▃▆▅▆▁█▃▇▆█▆</td></tr><tr><td>loss_death</td><td>▁▁▁▁▁▂▃▃▄▃▄▄▃▂█▆▃▅▄▆▃▃▇▃▃▄▃▃▃▅▄▃▃▄▅▄▃▃▄▂</td></tr><tr><td>loss_reconstructed</td><td>█▆▂▅▅▆▂▄▃▄▁▅▂▄▄▅▆</td></tr><tr><td>loss_reconstruction</td><td>█▄▄▃▃▃▃▂▃▃▂▃▂▂▃▃▂▂▂▃▁▂▂▂▂▂▂▂▂▂▂▁▁▂▂▂▂▂▂▂</td></tr><tr><td>loss_sparsity</td><td>█▃▂▁▁▁▁▁▁▁▁▁▁▁▁▁▁▁▁▁▁▁▁▁▁▁▁▁▁▁▁▁▁▁▁▁▁▁▁▁</td></tr><tr><td>max_time_since_fired</td><td>▁▂▂▃▃▃▃▄▄▄▅▆▅▆▇█▄▅▅▅▆▄▄▅▆▅▆▄▅▅▅▆▇█▇▇▆▅▆▇</td></tr><tr><td>recon_loss_diff</td><td>█▆▃▂▃▃▂▂▂▁▂▁▂▁▂▁▄</td></tr><tr><td>tokens_processed</td><td>▁▁▁▂▂▂▂▂▂▃▃▃▃▃▃▄▄▄▄▄▅▅▅▅▅▅▆▆▆▆▆▇▇▇▇▇▇███</td></tr><tr><td>var_explained</td><td>▁▄▅▆▆▇▇▆▇▇▆▇▇▇▇▇▇▇█▇▇█▇▇█████▇██████████</td></tr></table><br/></div><div class=\"wandb-col\"><h3>Run summary:</h3><br/><table class=\"wandb\"><tr><td>dead</td><td>0.00534</td></tr><tr><td>l0</td><td>62.42748</td></tr><tr><td>loss</td><td>0.00184</td></tr><tr><td>loss_clean</td><td>2.24738</td></tr><tr><td>loss_death</td><td>1e-05</td></tr><tr><td>loss_reconstructed</td><td>2.83895</td></tr><tr><td>loss_reconstruction</td><td>0.00157</td></tr><tr><td>loss_sparsity</td><td>53.38046</td></tr><tr><td>max_time_since_fired</td><td>3135.0</td></tr><tr><td>recon_loss_diff</td><td>0.59157</td></tr><tr><td>tokens_processed</td><td>12738431</td></tr><tr><td>var_explained</td><td>0.82188</td></tr></table><br/></div></div>"
      ],
      "text/plain": [
       "<IPython.core.display.HTML object>"
      ]
     },
     "metadata": {},
     "output_type": "display_data"
    },
    {
     "data": {
      "text/html": [
       " View run <strong style=\"color:#cdcd00\">jumping-breeze-555</strong> at: <a href='https://wandb.ai/neverix/saex/runs/65meh7tg' target=\"_blank\">https://wandb.ai/neverix/saex/runs/65meh7tg</a><br/> View project at: <a href='https://wandb.ai/neverix/saex' target=\"_blank\">https://wandb.ai/neverix/saex</a><br/>Synced 6 W&B file(s), 0 media file(s), 0 artifact file(s) and 1 other file(s)"
      ],
      "text/plain": [
       "<IPython.core.display.HTML object>"
      ]
     },
     "metadata": {},
     "output_type": "display_data"
    },
    {
     "data": {
      "text/html": [
       "Find logs at: <code>./wandb/run-20240510_022852-65meh7tg/logs</code>"
      ],
      "text/plain": [
       "<IPython.core.display.HTML object>"
      ]
     },
     "metadata": {},
     "output_type": "display_data"
    }
   ],
   "source": [
    "from scripts.train_phi_sae import main\n",
    "main(layer=11)"
   ]
  },
  {
   "cell_type": "code",
   "execution_count": 10,
   "metadata": {},
   "outputs": [
    {
     "name": "stdout",
     "output_type": "stream",
     "text": [
      "Loading model...\n"
     ]
    },
    {
     "name": "stderr",
     "output_type": "stream",
     "text": [
      "/home/neverix/.cache/pypoetry/virtualenvs/saex-U2at97x7-py3.12/lib/python3.12/site-packages/huggingface_hub/file_download.py:1132: FutureWarning: `resume_download` is deprecated and will be removed in version 1.0.0. Downloads always resume when possible. If you want to force a new download, use `force_download=True`.\n",
      "  warnings.warn(\n",
      "Special tokens have been added in the vocabulary, make sure the associated word embeddings are fine-tuned or trained.\n"
     ]
    },
    {
     "name": "stdout",
     "output_type": "stream",
     "text": [
      "Creating buffer...\n",
      "Creating SAE...\n",
      "Loading dataset...\n",
      "Training for 100000 iterations\n",
      "Sparsity coefficient: 5e-06\n"
     ]
    },
    {
     "data": {
      "text/html": [
       "wandb version 0.17.0 is available!  To upgrade, please run:\n",
       " $ pip install wandb --upgrade"
      ],
      "text/plain": [
       "<IPython.core.display.HTML object>"
      ]
     },
     "metadata": {},
     "output_type": "display_data"
    },
    {
     "data": {
      "text/html": [
       "Tracking run with wandb version 0.16.6"
      ],
      "text/plain": [
       "<IPython.core.display.HTML object>"
      ]
     },
     "metadata": {},
     "output_type": "display_data"
    },
    {
     "data": {
      "text/html": [
       "Run data is saved locally in <code>/home/neverix/saex/wandb/run-20240510_033954-xikef6n7</code>"
      ],
      "text/plain": [
       "<IPython.core.display.HTML object>"
      ]
     },
     "metadata": {},
     "output_type": "display_data"
    },
    {
     "data": {
      "text/html": [
       "Syncing run <strong><a href='https://wandb.ai/neverix/saex/runs/xikef6n7' target=\"_blank\">restful-frog-556</a></strong> to <a href='https://wandb.ai/neverix/saex' target=\"_blank\">Weights & Biases</a> (<a href='https://wandb.me/run' target=\"_blank\">docs</a>)<br/>"
      ],
      "text/plain": [
       "<IPython.core.display.HTML object>"
      ]
     },
     "metadata": {},
     "output_type": "display_data"
    },
    {
     "data": {
      "text/html": [
       " View project at <a href='https://wandb.ai/neverix/saex' target=\"_blank\">https://wandb.ai/neverix/saex</a>"
      ],
      "text/plain": [
       "<IPython.core.display.HTML object>"
      ]
     },
     "metadata": {},
     "output_type": "display_data"
    },
    {
     "data": {
      "text/html": [
       " View run at <a href='https://wandb.ai/neverix/saex/runs/xikef6n7' target=\"_blank\">https://wandb.ai/neverix/saex/runs/xikef6n7</a>"
      ],
      "text/plain": [
       "<IPython.core.display.HTML object>"
      ]
     },
     "metadata": {},
     "output_type": "display_data"
    },
    {
     "name": "stdout",
     "output_type": "stream",
     "text": [
      "Learning rate: 0.0004 warmed up for 128 iterations and cycled every 100000 iterations\n"
     ]
    },
    {
     "data": {
      "application/vnd.jupyter.widget-view+json": {
       "model_id": "878a41166bef4608afa6d5482d34e5d6",
       "version_major": 2,
       "version_minor": 0
      },
      "text/plain": [
       "  0%|          | 0/100000 [00:00<?, ?it/s]"
      ]
     },
     "metadata": {},
     "output_type": "display_data"
    },
    {
     "name": "stderr",
     "output_type": "stream",
     "text": [
      "Exception in thread Thread-22 (inner):\n",
      "Traceback (most recent call last):\n",
      "  File \"/home/neverix/.pyenv/versions/3.12.3/lib/python3.12/threading.py\", line 1073, in _bootstrap_inner\n",
      "    self.run()\n",
      "  File \"/home/neverix/.cache/pypoetry/virtualenvs/saex-U2at97x7-py3.12/lib/python3.12/site-packages/ipykernel/ipkernel.py\", line 766, in run_closure\n",
      "    _threading_Thread_run(self)\n",
      "  File \"/home/neverix/.pyenv/versions/3.12.3/lib/python3.12/threading.py\", line 1010, in run\n",
      "    self._target(*self._args, **self._kwargs)\n",
      "  File \"/home/neverix/.cache/pypoetry/virtualenvs/saex-U2at97x7-py3.12/lib/python3.12/site-packages/jax_smi/initialise_tracking.py\", line 10, in inner\n",
      "    posix.rename(f'{dir_prefix}/memory.prof.new', f'{dir_prefix}/memory.prof')  # atomic\n",
      "    ^^^^^^^^^^^^^^^^^^^^^^^^^^^^^^^^^^^^^^^^^^^^^^^^^^^^^^^^^^^^^^^^^^^^^^^^^^\n",
      "FileNotFoundError: [Errno 2] No such file or directory: '/dev/shm/memory.prof.new' -> '/dev/shm/memory.prof'\n"
     ]
    }
   ],
   "source": [
    "from scripts.train_phi_sae import main\n",
    "main(layer=11, is_gated=True)"
   ]
  },
  {
   "cell_type": "code",
   "execution_count": null,
   "metadata": {},
   "outputs": [],
   "source": [
    "from scripts.train_phi_sae import main\n",
    "main(layer=11, is_gated=True, sparsity_coefficient=2.5e-6)"
   ]
  },
  {
   "cell_type": "code",
   "execution_count": null,
   "metadata": {},
   "outputs": [],
   "source": [
    "from scripts.train_phi_sae import main\n",
    "main(layer=30)"
   ]
  },
  {
   "cell_type": "code",
   "execution_count": null,
   "metadata": {},
   "outputs": [
    {
     "name": "stdout",
     "output_type": "stream",
     "text": [
      "Loading model...\n"
     ]
    },
    {
     "name": "stderr",
     "output_type": "stream",
     "text": [
      "/home/neverix/.cache/pypoetry/virtualenvs/saex-U2at97x7-py3.12/lib/python3.12/site-packages/huggingface_hub/file_download.py:1132: FutureWarning: `resume_download` is deprecated and will be removed in version 1.0.0. Downloads always resume when possible. If you want to force a new download, use `force_download=True`.\n",
      "  warnings.warn(\n",
      "Some weights of the model checkpoint at openai-community/gpt2-xl were not used when initializing FlaxGPT2LMHeadModel: {('h', '47', 'attn', 'bias'), ('h', '6', 'attn', 'bias'), ('h', '23', 'attn', 'bias'), ('h', '45', 'attn', 'bias'), ('h', '42', 'attn', 'bias'), ('h', '21', 'attn', 'bias'), ('h', '3', 'attn', 'bias'), ('h', '17', 'attn', 'bias'), ('h', '8', 'attn', 'bias'), ('h', '32', 'attn', 'bias'), ('h', '39', 'attn', 'bias'), ('h', '11', 'attn', 'bias'), ('h', '7', 'attn', 'bias'), ('h', '14', 'attn', 'bias'), ('h', '33', 'attn', 'bias'), ('h', '10', 'attn', 'bias'), ('h', '25', 'attn', 'bias'), ('h', '38', 'attn', 'bias'), ('h', '19', 'attn', 'bias'), ('h', '35', 'attn', 'bias'), ('h', '27', 'attn', 'bias'), ('h', '13', 'attn', 'bias'), ('h', '5', 'attn', 'bias'), ('h', '40', 'attn', 'bias'), ('h', '26', 'attn', 'bias'), ('h', '44', 'attn', 'bias'), ('h', '18', 'attn', 'bias'), ('h', '31', 'attn', 'bias'), ('h', '37', 'attn', 'bias'), ('h', '9', 'attn', 'bias'), ('h', '16', 'attn', 'bias'), ('h', '20', 'attn', 'bias'), ('h', '1', 'attn', 'bias'), ('h', '41', 'attn', 'bias'), ('h', '24', 'attn', 'bias'), ('h', '29', 'attn', 'bias'), ('h', '2', 'attn', 'bias'), ('h', '22', 'attn', 'bias'), ('h', '30', 'attn', 'bias'), ('h', '28', 'attn', 'bias'), ('h', '34', 'attn', 'bias'), ('h', '36', 'attn', 'bias'), ('h', '15', 'attn', 'bias'), ('h', '4', 'attn', 'bias'), ('h', '0', 'attn', 'bias'), ('h', '12', 'attn', 'bias'), ('h', '46', 'attn', 'bias'), ('h', '43', 'attn', 'bias')}\n",
      "- This IS expected if you are initializing FlaxGPT2LMHeadModel from the checkpoint of a model trained on another task or with another architecture (e.g. initializing a BertForSequenceClassification model from a BertForPreTraining model).\n",
      "- This IS NOT expected if you are initializing FlaxGPT2LMHeadModel from the checkpoint of a model that you expect to be exactly identical (initializing a BertForSequenceClassification model from a BertForSequenceClassification model).\n",
      "Exception in thread Thread-14 (inner):\n",
      "Traceback (most recent call last):\n",
      "  File \"/home/neverix/.pyenv/versions/3.12.3/lib/python3.12/threading.py\", line 1073, in _bootstrap_inner\n",
      "    self.run()\n",
      "  File \"/home/neverix/.cache/pypoetry/virtualenvs/saex-U2at97x7-py3.12/lib/python3.12/site-packages/ipykernel/ipkernel.py\", line 766, in run_closure\n",
      "    _threading_Thread_run(self)\n",
      "  File \"/home/neverix/.pyenv/versions/3.12.3/lib/python3.12/threading.py\", line 1010, in run\n",
      "    self._target(*self._args, **self._kwargs)\n",
      "  File \"/home/neverix/.cache/pypoetry/virtualenvs/saex-U2at97x7-py3.12/lib/python3.12/site-packages/jax_smi/initialise_tracking.py\", line 10, in inner\n",
      "/home/neverix/.cache/pypoetry/virtualenvs/saex-U2at97x7-py3.12/lib/python3.12/site-packages/huggingface_hub/file_download.py:1132: FutureWarning: `resume_download` is deprecated and will be removed in version 1.0.0. Downloads always resume when possible. If you want to force a new download, use `force_download=True`.\n",
      "  warnings.warn(\n",
      "    posix.rename(f'{dir_prefix}/memory.prof.new', f'{dir_prefix}/memory.prof')  # atomic\n",
      "    ^^^^^^^^^^^^^^^^^^^^^^^^^^^^^^^^^^^^^^^^^^^^^^^^^^^^^^^^^^^^^^^^^^^^^^^^^^\n",
      "FileNotFoundError: [Errno 2] No such file or directory: '/dev/shm/memory.prof.new' -> '/dev/shm/memory.prof'\n"
     ]
    },
    {
     "name": "stdout",
     "output_type": "stream",
     "text": [
      "Creating buffer...\n",
      "Creating SAE...\n",
      "Loading dataset...\n"
     ]
    },
    {
     "name": "stderr",
     "output_type": "stream",
     "text": [
      "/home/neverix/.cache/pypoetry/virtualenvs/saex-U2at97x7-py3.12/lib/python3.12/site-packages/datasets/load.py:1486: FutureWarning: The repository for Skylion007/openwebtext contains custom code which must be executed to correctly load the dataset. You can inspect the repository content at https://hf.co/datasets/Skylion007/openwebtext\n",
      "You can avoid this message in future by passing the argument `trust_remote_code=True`.\n",
      "Passing `trust_remote_code=True` will be mandatory to load this dataset from the next major release of `datasets`.\n",
      "  warnings.warn(\n"
     ]
    },
    {
     "name": "stdout",
     "output_type": "stream",
     "text": [
      "Training for 100000 iterations\n",
      "Sparsity coefficient: 8e-05\n"
     ]
    },
    {
     "data": {
      "text/html": [
       "wandb version 0.17.0 is available!  To upgrade, please run:\n",
       " $ pip install wandb --upgrade"
      ],
      "text/plain": [
       "<IPython.core.display.HTML object>"
      ]
     },
     "metadata": {},
     "output_type": "display_data"
    },
    {
     "data": {
      "text/html": [
       "Tracking run with wandb version 0.16.6"
      ],
      "text/plain": [
       "<IPython.core.display.HTML object>"
      ]
     },
     "metadata": {},
     "output_type": "display_data"
    },
    {
     "data": {
      "text/html": [
       "Run data is saved locally in <code>/home/neverix/saex/wandb/run-20240509_224743-c7ke2rtw</code>"
      ],
      "text/plain": [
       "<IPython.core.display.HTML object>"
      ]
     },
     "metadata": {},
     "output_type": "display_data"
    },
    {
     "data": {
      "text/html": [
       "Syncing run <strong><a href='https://wandb.ai/neverix/saex/runs/c7ke2rtw' target=\"_blank\">breezy-water-546</a></strong> to <a href='https://wandb.ai/neverix/saex' target=\"_blank\">Weights & Biases</a> (<a href='https://wandb.me/run' target=\"_blank\">docs</a>)<br/>"
      ],
      "text/plain": [
       "<IPython.core.display.HTML object>"
      ]
     },
     "metadata": {},
     "output_type": "display_data"
    },
    {
     "data": {
      "text/html": [
       " View project at <a href='https://wandb.ai/neverix/saex' target=\"_blank\">https://wandb.ai/neverix/saex</a>"
      ],
      "text/plain": [
       "<IPython.core.display.HTML object>"
      ]
     },
     "metadata": {},
     "output_type": "display_data"
    },
    {
     "data": {
      "text/html": [
       " View run at <a href='https://wandb.ai/neverix/saex/runs/c7ke2rtw' target=\"_blank\">https://wandb.ai/neverix/saex/runs/c7ke2rtw</a>"
      ],
      "text/plain": [
       "<IPython.core.display.HTML object>"
      ]
     },
     "metadata": {},
     "output_type": "display_data"
    },
    {
     "name": "stdout",
     "output_type": "stream",
     "text": [
      "Learning rate: 0.0004 warmed up for 128 iterations and cycled every 100000 iterations\n"
     ]
    },
    {
     "data": {
      "application/vnd.jupyter.widget-view+json": {
       "model_id": "03e68496b79548f0aba6f0b1d93f6698",
       "version_major": 2,
       "version_minor": 0
      },
      "text/plain": [
       "  0%|          | 0/100000 [00:00<?, ?it/s]"
      ]
     },
     "metadata": {},
     "output_type": "display_data"
    },
    {
     "data": {
      "application/vnd.jupyter.widget-view+json": {
       "model_id": "76ea4912a2114a2287f817afca3d0124",
       "version_major": 2,
       "version_minor": 0
      },
      "text/plain": [
       "VBox(children=(Label(value='0.049 MB of 0.049 MB uploaded\\r'), FloatProgress(value=1.0, max=1.0)))"
      ]
     },
     "metadata": {},
     "output_type": "display_data"
    },
    {
     "data": {
      "text/html": [
       "<style>\n",
       "    table.wandb td:nth-child(1) { padding: 0 10px; text-align: left ; width: auto;} td:nth-child(2) {text-align: left ; width: 100%}\n",
       "    .wandb-row { display: flex; flex-direction: row; flex-wrap: wrap; justify-content: flex-start; width: 100% }\n",
       "    .wandb-col { display: flex; flex-direction: column; flex-basis: 100%; flex: 1; padding: 10px; }\n",
       "    </style>\n",
       "<div class=\"wandb-row\"><div class=\"wandb-col\"><h3>Run history:</h3><br/><table class=\"wandb\"><tr><td>dead</td><td>▁▁▂▁▂▂▂▂▄▂▃▃▂▄▃▃▅▅▄▅▄▅▅█▆▃▆▄▅▂▅▃▂▃▃▃▄▄▃▂</td></tr><tr><td>l0</td><td>█▇▇▆▆▅▅▃▄▃▂▃▂▂▂▂▁▁▁▁▁▁▁▁▁▁▁▁▁▁▁▁▁▁▁▁▁▁▁▁</td></tr><tr><td>loss</td><td>██▅▄▄▃▄▃▄▃▃▃▂▂▂▂▂▂▁▁▁▁▁▁▁▁▁▁▁▁▁▁▁▁▁▁▁▁▁▁</td></tr><tr><td>loss_death</td><td>▁▂▂▂▂▂▃▂▅▃▃▄▃▄▃▃▄▄▄▅▅▆▆█▇▆▇▇▇▆▇▆▆▇▆▇▇▇▇▆</td></tr><tr><td>loss_reconstruction</td><td>█▇▅▄▄▃▄▂▃▃▂▃▂▂▂▂▂▂▁▁▁▁▁▁▁▁▁▁▁▁▁▁▁▁▁▁▁▁▁▁</td></tr><tr><td>loss_sparsity</td><td>▄█▅▅▅▄▄▂▄▂▂▂▂▂▂▁▁▁▁▁▁▁▁▁▁▁▁▁▁▁▁▁▁▁▁▁▁▁▁▁</td></tr><tr><td>max_time_since_fired</td><td>▁▁▁▁▁▁▁▁▂▁▂▂▂▂▂▁▂▂▃▂▂▂▂▂▃▂▂█▄▃▄▃▂▇▄█▆▆▅▃</td></tr><tr><td>tokens_processed</td><td>▁▁▁▁▂▂▂▂▂▃▃▃▃▃▃▄▄▄▄▄▅▅▅▅▅▅▆▆▆▆▆▇▇▇▇▇▇███</td></tr><tr><td>var_explained</td><td>▃▆▆▆▅▆▄▅▁▂▆▇▇█▇█▇▇█▆██▇██▇▇▅██▇█▆█▇█▇█▇█</td></tr></table><br/></div><div class=\"wandb-col\"><h3>Run summary:</h3><br/><table class=\"wandb\"><tr><td>dead</td><td>0.00094</td></tr><tr><td>l0</td><td>42.64011</td></tr><tr><td>loss</td><td>0.03593</td></tr><tr><td>loss_death</td><td>0.00022</td></tr><tr><td>loss_reconstruction</td><td>0.01417</td></tr><tr><td>loss_sparsity</td><td>40.90451</td></tr><tr><td>max_time_since_fired</td><td>1862.0</td></tr><tr><td>tokens_processed</td><td>108409885</td></tr><tr><td>var_explained</td><td>0.92152</td></tr></table><br/></div></div>"
      ],
      "text/plain": [
       "<IPython.core.display.HTML object>"
      ]
     },
     "metadata": {},
     "output_type": "display_data"
    },
    {
     "data": {
      "text/html": [
       " View run <strong style=\"color:#cdcd00\">breezy-water-546</strong> at: <a href='https://wandb.ai/neverix/saex/runs/c7ke2rtw' target=\"_blank\">https://wandb.ai/neverix/saex/runs/c7ke2rtw</a><br/> View project at: <a href='https://wandb.ai/neverix/saex' target=\"_blank\">https://wandb.ai/neverix/saex</a><br/>Synced 6 W&B file(s), 0 media file(s), 0 artifact file(s) and 1 other file(s)"
      ],
      "text/plain": [
       "<IPython.core.display.HTML object>"
      ]
     },
     "metadata": {},
     "output_type": "display_data"
    },
    {
     "data": {
      "text/html": [
       "Find logs at: <code>./wandb/run-20240509_224743-c7ke2rtw/logs</code>"
      ],
      "text/plain": [
       "<IPython.core.display.HTML object>"
      ]
     },
     "metadata": {},
     "output_type": "display_data"
    }
   ],
   "source": [
    "from scripts.train_gated_sae import main\n",
    "main(is_xl=True, layer=20, cache_batch_size=256)\n",
    "# main(is_xl=True, layer=30, cache_batch_size=256, restore=\"weights/gpt2-20-gated.safetensors\")"
   ]
  },
  {
   "cell_type": "code",
   "execution_count": null,
   "metadata": {},
   "outputs": [],
   "source": [
    "from scripts.train_gpt2_sae import main\n",
    "main(restore=\"weights/gpt2-20-base.safetensors\", layer=32)\n",
    "# python -m scripts.train_gpt2_sae --save_steps 0 --is_xl=False --layer=9\n",
    "# main(save_steps=0, is_xl=False, layer=1)"
   ]
  },
  {
   "cell_type": "code",
   "execution_count": null,
   "metadata": {},
   "outputs": [],
   "source": []
  }
 ],
 "metadata": {
  "kernelspec": {
   "display_name": "saex-U2at97x7-py3.12",
   "language": "python",
   "name": "python3"
  },
  "language_info": {
   "codemirror_mode": {
    "name": "ipython",
    "version": 3
   },
   "file_extension": ".py",
   "mimetype": "text/x-python",
   "name": "python",
   "nbconvert_exporter": "python",
   "pygments_lexer": "ipython3",
   "version": "3.12.3"
  }
 },
 "nbformat": 4,
 "nbformat_minor": 2
}
