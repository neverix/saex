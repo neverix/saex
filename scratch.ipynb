{
 "cells": [
  {
   "cell_type": "code",
   "execution_count": 1,
   "metadata": {},
   "outputs": [],
   "source": [
    "%load_ext autoreload\n",
    "%autoreload 2"
   ]
  },
  {
   "cell_type": "code",
   "execution_count": 2,
   "metadata": {},
   "outputs": [],
   "source": [
    "import jax_smi\n",
    "jax_smi.initialise_tracking()"
   ]
  },
  {
   "cell_type": "code",
   "execution_count": 3,
   "metadata": {},
   "outputs": [
    {
     "name": "stdout",
     "output_type": "stream",
     "text": [
      "Creating buffer...\n",
      "Creating SAE...\n",
      "Loading model...\n"
     ]
    },
    {
     "name": "stderr",
     "output_type": "stream",
     "text": [
      "Some weights of the model checkpoint at openai-community/gpt2-xl were not used when initializing FlaxGPT2LMHeadModel: {('h', '43', 'attn', 'bias'), ('h', '37', 'attn', 'bias'), ('h', '47', 'attn', 'bias'), ('h', '30', 'attn', 'bias'), ('h', '7', 'attn', 'bias'), ('h', '32', 'attn', 'bias'), ('h', '1', 'attn', 'bias'), ('h', '46', 'attn', 'bias'), ('h', '27', 'attn', 'bias'), ('h', '11', 'attn', 'bias'), ('h', '22', 'attn', 'bias'), ('h', '40', 'attn', 'bias'), ('h', '20', 'attn', 'bias'), ('h', '38', 'attn', 'bias'), ('h', '8', 'attn', 'bias'), ('h', '5', 'attn', 'bias'), ('h', '2', 'attn', 'bias'), ('h', '42', 'attn', 'bias'), ('h', '12', 'attn', 'bias'), ('h', '35', 'attn', 'bias'), ('h', '10', 'attn', 'bias'), ('h', '33', 'attn', 'bias'), ('h', '24', 'attn', 'bias'), ('h', '36', 'attn', 'bias'), ('h', '15', 'attn', 'bias'), ('h', '17', 'attn', 'bias'), ('h', '45', 'attn', 'bias'), ('h', '6', 'attn', 'bias'), ('h', '0', 'attn', 'bias'), ('h', '4', 'attn', 'bias'), ('h', '25', 'attn', 'bias'), ('h', '3', 'attn', 'bias'), ('h', '26', 'attn', 'bias'), ('h', '21', 'attn', 'bias'), ('h', '14', 'attn', 'bias'), ('h', '19', 'attn', 'bias'), ('h', '39', 'attn', 'bias'), ('h', '9', 'attn', 'bias'), ('h', '29', 'attn', 'bias'), ('h', '16', 'attn', 'bias'), ('h', '44', 'attn', 'bias'), ('h', '34', 'attn', 'bias'), ('h', '31', 'attn', 'bias'), ('h', '18', 'attn', 'bias'), ('h', '13', 'attn', 'bias'), ('h', '28', 'attn', 'bias'), ('h', '23', 'attn', 'bias'), ('h', '41', 'attn', 'bias')}\n",
      "- This IS expected if you are initializing FlaxGPT2LMHeadModel from the checkpoint of a model trained on another task or with another architecture (e.g. initializing a BertForSequenceClassification model from a BertForPreTraining model).\n",
      "- This IS NOT expected if you are initializing FlaxGPT2LMHeadModel from the checkpoint of a model that you expect to be exactly identical (initializing a BertForSequenceClassification model from a BertForSequenceClassification model).\n"
     ]
    },
    {
     "name": "stderr",
     "output_type": "stream",
     "text": [
      "Exception in thread Thread-4 (inner):\n",
      "Traceback (most recent call last):\n",
      "  File \"/home/neverix/.pyenv/versions/3.12.3/lib/python3.12/threading.py\", line 1073, in _bootstrap_inner\n",
      "    self.run()\n",
      "  File \"/home/neverix/.cache/pypoetry/virtualenvs/saex-U2at97x7-py3.12/lib/python3.12/site-packages/ipykernel/ipkernel.py\", line 766, in run_closure\n",
      "    _threading_Thread_run(self)\n",
      "  File \"/home/neverix/.pyenv/versions/3.12.3/lib/python3.12/threading.py\", line 1010, in run\n",
      "    self._target(*self._args, **self._kwargs)\n",
      "  File \"/home/neverix/.cache/pypoetry/virtualenvs/saex-U2at97x7-py3.12/lib/python3.12/site-packages/jax_smi/initialise_tracking.py\", line 10, in inner\n",
      "    posix.rename(f'{dir_prefix}/memory.prof.new', f'{dir_prefix}/memory.prof')  # atomic\n",
      "    ^^^^^^^^^^^^^^^^^^^^^^^^^^^^^^^^^^^^^^^^^^^^^^^^^^^^^^^^^^^^^^^^^^^^^^^^^^\n",
      "FileNotFoundError: [Errno 2] No such file or directory: '/dev/shm/memory.prof.new' -> '/dev/shm/memory.prof'\n"
     ]
    },
    {
     "name": "stdout",
     "output_type": "stream",
     "text": [
      "Loading dataset...\n"
     ]
    },
    {
     "name": "stderr",
     "output_type": "stream",
     "text": [
      "/home/neverix/.cache/pypoetry/virtualenvs/saex-U2at97x7-py3.12/lib/python3.12/site-packages/datasets/load.py:1486: FutureWarning: The repository for Skylion007/openwebtext contains custom code which must be executed to correctly load the dataset. You can inspect the repository content at https://hf.co/datasets/Skylion007/openwebtext\n",
      "You can avoid this message in future by passing the argument `trust_remote_code=True`.\n",
      "Passing `trust_remote_code=True` will be mandatory to load this dataset from the next major release of `datasets`.\n",
      "  warnings.warn(\n",
      "Failed to detect the name of this notebook, you can set it manually with the WANDB_NOTEBOOK_NAME environment variable to enable code saving.\n"
     ]
    },
    {
     "name": "stdout",
     "output_type": "stream",
     "text": [
      "Training for 100000 iterations\n",
      "Sparsity coefficient: 4e-05\n"
     ]
    },
    {
     "name": "stderr",
     "output_type": "stream",
     "text": [
      "\u001b[34m\u001b[1mwandb\u001b[0m: Currently logged in as: \u001b[33mneverix\u001b[0m. Use \u001b[1m`wandb login --relogin`\u001b[0m to force relogin\n"
     ]
    },
    {
     "data": {
      "text/html": [
       "Tracking run with wandb version 0.16.6"
      ],
      "text/plain": [
       "<IPython.core.display.HTML object>"
      ]
     },
     "metadata": {},
     "output_type": "display_data"
    },
    {
     "data": {
      "text/html": [
       "Run data is saved locally in <code>/home/neverix/saex/wandb/run-20240424_122836-p657ql02</code>"
      ],
      "text/plain": [
       "<IPython.core.display.HTML object>"
      ]
     },
     "metadata": {},
     "output_type": "display_data"
    },
    {
     "data": {
      "text/html": [
       "Syncing run <strong><a href='https://wandb.ai/neverix/saex/runs/p657ql02' target=\"_blank\">desert-frog-247</a></strong> to <a href='https://wandb.ai/neverix/saex' target=\"_blank\">Weights & Biases</a> (<a href='https://wandb.me/run' target=\"_blank\">docs</a>)<br/>"
      ],
      "text/plain": [
       "<IPython.core.display.HTML object>"
      ]
     },
     "metadata": {},
     "output_type": "display_data"
    },
    {
     "data": {
      "text/html": [
       " View project at <a href='https://wandb.ai/neverix/saex' target=\"_blank\">https://wandb.ai/neverix/saex</a>"
      ],
      "text/plain": [
       "<IPython.core.display.HTML object>"
      ]
     },
     "metadata": {},
     "output_type": "display_data"
    },
    {
     "data": {
      "text/html": [
       " View run at <a href='https://wandb.ai/neverix/saex/runs/p657ql02' target=\"_blank\">https://wandb.ai/neverix/saex/runs/p657ql02</a>"
      ],
      "text/plain": [
       "<IPython.core.display.HTML object>"
      ]
     },
     "metadata": {},
     "output_type": "display_data"
    },
    {
     "name": "stdout",
     "output_type": "stream",
     "text": [
      "Learning rate: 0.0004 warmed up for 128 iterations and cycled every 100000 iterations\n"
     ]
    },
    {
     "data": {
      "application/vnd.jupyter.widget-view+json": {
       "model_id": "37ff6660d4a04a22a2cf866b0510110a",
       "version_major": 2,
       "version_minor": 0
      },
      "text/plain": [
       "  0%|          | 0/100000 [00:00<?, ?it/s]"
      ]
     },
     "metadata": {},
     "output_type": "display_data"
    },
    {
     "name": "stderr",
     "output_type": "stream",
     "text": [
      "'(ProtocolError('Connection aborted.', RemoteDisconnected('Remote end closed connection without response')), '(Request ID: cc9b94c0-212b-4fe1-8576-a596deba87de)')' thrown while requesting GET https://huggingface.co/datasets/Skylion007/openwebtext/resolve/main/subsets/urlsf_subset00.tar\n",
      "Retrying in 1s [Retry 1/5].\n",
      "'(ProtocolError('Connection aborted.', RemoteDisconnected('Remote end closed connection without response')), '(Request ID: 1f439c17-02ec-4610-8be1-6f2e8707eede)')' thrown while requesting GET https://huggingface.co/datasets/Skylion007/openwebtext/resolve/main/subsets/urlsf_subset00.tar\n",
      "Retrying in 1s [Retry 1/5].\n"
     ]
    }
   ],
   "source": [
    "from saex.trainer_cache import main\n",
    "main()"
   ]
  },
  {
   "cell_type": "code",
   "execution_count": null,
   "metadata": {},
   "outputs": [],
   "source": []
  }
 ],
 "metadata": {
  "kernelspec": {
   "display_name": "saex-U2at97x7-py3.12",
   "language": "python",
   "name": "python3"
  },
  "language_info": {
   "codemirror_mode": {
    "name": "ipython",
    "version": 3
   },
   "file_extension": ".py",
   "mimetype": "text/x-python",
   "name": "python",
   "nbconvert_exporter": "python",
   "pygments_lexer": "ipython3",
   "version": "3.12.3"
  }
 },
 "nbformat": 4,
 "nbformat_minor": 2
}
