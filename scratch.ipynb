{
 "cells": [
  {
   "cell_type": "code",
   "execution_count": 1,
   "metadata": {},
   "outputs": [],
   "source": [
    "%load_ext autoreload\n",
    "%autoreload 2"
   ]
  },
  {
   "cell_type": "code",
   "execution_count": 2,
   "metadata": {},
   "outputs": [],
   "source": [
    "import jax_smi\n",
    "jax_smi.initialise_tracking()"
   ]
  },
  {
   "cell_type": "code",
   "execution_count": 3,
   "metadata": {},
   "outputs": [
    {
     "name": "stdout",
     "output_type": "stream",
     "text": [
      "Loading model...\n"
     ]
    },
    {
     "name": "stderr",
     "output_type": "stream",
     "text": [
      "/home/neverix/.cache/pypoetry/virtualenvs/saex-U2at97x7-py3.12/lib/python3.12/site-packages/huggingface_hub/file_download.py:1132: FutureWarning: `resume_download` is deprecated and will be removed in version 1.0.0. Downloads always resume when possible. If you want to force a new download, use `force_download=True`.\n",
      "  warnings.warn(\n",
      "Special tokens have been added in the vocabulary, make sure the associated word embeddings are fine-tuned or trained.\n",
      "Exception in thread Thread-6 (inner):\n",
      "Traceback (most recent call last):\n",
      "  File \"/home/neverix/.pyenv/versions/3.12.3/lib/python3.12/threading.py\", line 1073, in _bootstrap_inner\n",
      "    self.run()\n",
      "  File \"/home/neverix/.cache/pypoetry/virtualenvs/saex-U2at97x7-py3.12/lib/python3.12/site-packages/ipykernel/ipkernel.py\", line 766, in run_closure\n",
      "    _threading_Thread_run(self)\n",
      "  File \"/home/neverix/.pyenv/versions/3.12.3/lib/python3.12/threading.py\", line 1010, in run\n",
      "    self._target(*self._args, **self._kwargs)\n",
      "  File \"/home/neverix/.cache/pypoetry/virtualenvs/saex-U2at97x7-py3.12/lib/python3.12/site-packages/jax_smi/initialise_tracking.py\", line 10, in inner\n",
      "    posix.rename(f'{dir_prefix}/memory.prof.new', f'{dir_prefix}/memory.prof')  # atomic\n",
      "    ^^^^^^^^^^^^^^^^^^^^^^^^^^^^^^^^^^^^^^^^^^^^^^^^^^^^^^^^^^^^^^^^^^^^^^^^^^\n",
      "FileNotFoundError: [Errno 2] No such file or directory: '/dev/shm/memory.prof.new' -> '/dev/shm/memory.prof'\n"
     ]
    },
    {
     "name": "stdout",
     "output_type": "stream",
     "text": [
      "Creating buffer...\n",
      "Creating SAE...\n",
      "Loading dataset...\n"
     ]
    },
    {
     "name": "stderr",
     "output_type": "stream",
     "text": [
      "Failed to detect the name of this notebook, you can set it manually with the WANDB_NOTEBOOK_NAME environment variable to enable code saving.\n"
     ]
    },
    {
     "name": "stdout",
     "output_type": "stream",
     "text": [
      "Training for 100000 iterations\n",
      "Sparsity coefficient: 5e-06\n"
     ]
    },
    {
     "name": "stderr",
     "output_type": "stream",
     "text": [
      "\u001b[34m\u001b[1mwandb\u001b[0m: Currently logged in as: \u001b[33mneverix\u001b[0m. Use \u001b[1m`wandb login --relogin`\u001b[0m to force relogin\n"
     ]
    },
    {
     "data": {
      "text/html": [
       "Tracking run with wandb version 0.16.6"
      ],
      "text/plain": [
       "<IPython.core.display.HTML object>"
      ]
     },
     "metadata": {},
     "output_type": "display_data"
    },
    {
     "data": {
      "text/html": [
       "Run data is saved locally in <code>/home/neverix/saex/wandb/run-20240507_003159-jh9zdbuv</code>"
      ],
      "text/plain": [
       "<IPython.core.display.HTML object>"
      ]
     },
     "metadata": {},
     "output_type": "display_data"
    },
    {
     "data": {
      "text/html": [
       "Syncing run <strong><a href='https://wandb.ai/neverix/saex/runs/jh9zdbuv' target=\"_blank\">young-bush-389</a></strong> to <a href='https://wandb.ai/neverix/saex' target=\"_blank\">Weights & Biases</a> (<a href='https://wandb.me/run' target=\"_blank\">docs</a>)<br/>"
      ],
      "text/plain": [
       "<IPython.core.display.HTML object>"
      ]
     },
     "metadata": {},
     "output_type": "display_data"
    },
    {
     "data": {
      "text/html": [
       " View project at <a href='https://wandb.ai/neverix/saex' target=\"_blank\">https://wandb.ai/neverix/saex</a>"
      ],
      "text/plain": [
       "<IPython.core.display.HTML object>"
      ]
     },
     "metadata": {},
     "output_type": "display_data"
    },
    {
     "data": {
      "text/html": [
       " View run at <a href='https://wandb.ai/neverix/saex/runs/jh9zdbuv' target=\"_blank\">https://wandb.ai/neverix/saex/runs/jh9zdbuv</a>"
      ],
      "text/plain": [
       "<IPython.core.display.HTML object>"
      ]
     },
     "metadata": {},
     "output_type": "display_data"
    },
    {
     "name": "stdout",
     "output_type": "stream",
     "text": [
      "Learning rate: 0.0004 warmed up for 128 iterations and cycled every 100000 iterations\n"
     ]
    },
    {
     "data": {
      "application/vnd.jupyter.widget-view+json": {
       "model_id": "17e4b77254b44bba80949a0fa71207ed",
       "version_major": 2,
       "version_minor": 0
      },
      "text/plain": [
       "  0%|          | 0/100000 [00:00<?, ?it/s]"
      ]
     },
     "metadata": {},
     "output_type": "display_data"
    },
    {
     "name": "stdout",
     "output_type": "stream",
     "text": [
      "6821\n",
      "6242\n",
      "6701\n",
      "[3380]\n",
      "[3380]\n"
     ]
    }
   ],
   "source": [
    "from scripts.train_phi_sae import main\n",
    "main()"
   ]
  },
  {
   "cell_type": "code",
   "execution_count": null,
   "metadata": {},
   "outputs": [
    {
     "name": "stdout",
     "output_type": "stream",
     "text": [
      "Loading model...\n"
     ]
    },
    {
     "name": "stderr",
     "output_type": "stream",
     "text": [
      "/home/neverix/.cache/pypoetry/virtualenvs/saex-U2at97x7-py3.12/lib/python3.12/site-packages/huggingface_hub/file_download.py:1132: FutureWarning: `resume_download` is deprecated and will be removed in version 1.0.0. Downloads always resume when possible. If you want to force a new download, use `force_download=True`.\n",
      "  warnings.warn(\n",
      "Some weights of the model checkpoint at openai-community/gpt2-xl were not used when initializing FlaxGPT2LMHeadModel: {('h', '4', 'attn', 'bias'), ('h', '8', 'attn', 'bias'), ('h', '2', 'attn', 'bias'), ('h', '11', 'attn', 'bias'), ('h', '41', 'attn', 'bias'), ('h', '23', 'attn', 'bias'), ('h', '37', 'attn', 'bias'), ('h', '46', 'attn', 'bias'), ('h', '12', 'attn', 'bias'), ('h', '26', 'attn', 'bias'), ('h', '22', 'attn', 'bias'), ('h', '5', 'attn', 'bias'), ('h', '18', 'attn', 'bias'), ('h', '28', 'attn', 'bias'), ('h', '16', 'attn', 'bias'), ('h', '33', 'attn', 'bias'), ('h', '38', 'attn', 'bias'), ('h', '17', 'attn', 'bias'), ('h', '0', 'attn', 'bias'), ('h', '31', 'attn', 'bias'), ('h', '15', 'attn', 'bias'), ('h', '42', 'attn', 'bias'), ('h', '10', 'attn', 'bias'), ('h', '36', 'attn', 'bias'), ('h', '7', 'attn', 'bias'), ('h', '39', 'attn', 'bias'), ('h', '14', 'attn', 'bias'), ('h', '30', 'attn', 'bias'), ('h', '3', 'attn', 'bias'), ('h', '43', 'attn', 'bias'), ('h', '44', 'attn', 'bias'), ('h', '6', 'attn', 'bias'), ('h', '34', 'attn', 'bias'), ('h', '45', 'attn', 'bias'), ('h', '47', 'attn', 'bias'), ('h', '32', 'attn', 'bias'), ('h', '1', 'attn', 'bias'), ('h', '20', 'attn', 'bias'), ('h', '13', 'attn', 'bias'), ('h', '35', 'attn', 'bias'), ('h', '40', 'attn', 'bias'), ('h', '29', 'attn', 'bias'), ('h', '27', 'attn', 'bias'), ('h', '25', 'attn', 'bias'), ('h', '24', 'attn', 'bias'), ('h', '19', 'attn', 'bias'), ('h', '9', 'attn', 'bias'), ('h', '21', 'attn', 'bias')}\n",
      "- This IS expected if you are initializing FlaxGPT2LMHeadModel from the checkpoint of a model trained on another task or with another architecture (e.g. initializing a BertForSequenceClassification model from a BertForPreTraining model).\n",
      "- This IS NOT expected if you are initializing FlaxGPT2LMHeadModel from the checkpoint of a model that you expect to be exactly identical (initializing a BertForSequenceClassification model from a BertForSequenceClassification model).\n",
      "/home/neverix/.cache/pypoetry/virtualenvs/saex-U2at97x7-py3.12/lib/python3.12/site-packages/huggingface_hub/file_download.py:1132: FutureWarning: `resume_download` is deprecated and will be removed in version 1.0.0. Downloads always resume when possible. If you want to force a new download, use `force_download=True`.\n",
      "  warnings.warn(\n"
     ]
    },
    {
     "name": "stderr",
     "output_type": "stream",
     "text": [
      "Exception in thread Thread-4 (inner):\n",
      "Traceback (most recent call last):\n",
      "  File \"/home/neverix/.pyenv/versions/3.12.3/lib/python3.12/threading.py\", line 1073, in _bootstrap_inner\n",
      "    self.run()\n",
      "  File \"/home/neverix/.cache/pypoetry/virtualenvs/saex-U2at97x7-py3.12/lib/python3.12/site-packages/ipykernel/ipkernel.py\", line 766, in run_closure\n",
      "    _threading_Thread_run(self)\n",
      "  File \"/home/neverix/.pyenv/versions/3.12.3/lib/python3.12/threading.py\", line 1010, in run\n",
      "    self._target(*self._args, **self._kwargs)\n",
      "  File \"/home/neverix/.cache/pypoetry/virtualenvs/saex-U2at97x7-py3.12/lib/python3.12/site-packages/jax_smi/initialise_tracking.py\", line 10, in inner\n",
      "    posix.rename(f'{dir_prefix}/memory.prof.new', f'{dir_prefix}/memory.prof')  # atomic\n",
      "    ^^^^^^^^^^^^^^^^^^^^^^^^^^^^^^^^^^^^^^^^^^^^^^^^^^^^^^^^^^^^^^^^^^^^^^^^^^\n",
      "FileNotFoundError: [Errno 2] No such file or directory: '/dev/shm/memory.prof.new' -> '/dev/shm/memory.prof'\n"
     ]
    },
    {
     "name": "stdout",
     "output_type": "stream",
     "text": [
      "Creating buffer...\n",
      "Creating SAE...\n"
     ]
    }
   ],
   "source": [
    "from scripts.train_gpt2_sae import main\n",
    "main(restore=\"weights/gpt2-20-base.safetensors\", layer=32)\n",
    "# python -m scripts.train_gpt2_sae --save_steps 0 --is_xl=False --layer=9\n",
    "# main(save_steps=0, is_xl=False, layer=1)"
   ]
  },
  {
   "cell_type": "code",
   "execution_count": null,
   "metadata": {},
   "outputs": [],
   "source": []
  }
 ],
 "metadata": {
  "kernelspec": {
   "display_name": "saex-U2at97x7-py3.12",
   "language": "python",
   "name": "python3"
  },
  "language_info": {
   "codemirror_mode": {
    "name": "ipython",
    "version": 3
   },
   "file_extension": ".py",
   "mimetype": "text/x-python",
   "name": "python",
   "nbconvert_exporter": "python",
   "pygments_lexer": "ipython3",
   "version": "3.12.3"
  }
 },
 "nbformat": 4,
 "nbformat_minor": 2
}
