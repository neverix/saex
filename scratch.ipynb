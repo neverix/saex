{
 "cells": [
  {
   "cell_type": "code",
   "execution_count": 1,
   "metadata": {},
   "outputs": [],
   "source": [
    "%load_ext autoreload\n",
    "%autoreload 2"
   ]
  },
  {
   "cell_type": "code",
   "execution_count": 1,
   "metadata": {},
   "outputs": [
    {
     "name": "stderr",
     "output_type": "stream",
     "text": [
      "/home/neverix/.cache/pypoetry/virtualenvs/saex-U2at97x7-py3.12/lib/python3.12/site-packages/tqdm/auto.py:21: TqdmWarning: IProgress not found. Please update jupyter and ipywidgets. See https://ipywidgets.readthedocs.io/en/stable/user_install.html\n",
      "  from .autonotebook import tqdm as notebook_tqdm\n"
     ]
    },
    {
     "name": "stdout",
     "output_type": "stream",
     "text": [
      "Creating SAE...\n",
      "Loading checkpoint (weights/bloom-gpt2s-1.safetensors)...\n",
      "Loading model...\n"
     ]
    },
    {
     "name": "stderr",
     "output_type": "stream",
     "text": [
      "Some weights of the model checkpoint at MBZUAI/LaMini-GPT-124M were not used when initializing FlaxGPT2Model: {('h', '0', 'attn', 'bias'), ('h', '10', 'attn', 'bias'), ('h', '11', 'attn', 'masked_bias'), ('h', '6', 'attn', 'bias'), ('h', '7', 'attn', 'masked_bias'), ('lm_head', 'kernel'), ('h', '2', 'attn', 'bias'), ('h', '9', 'attn', 'bias'), ('h', '0', 'attn', 'masked_bias'), ('h', '10', 'attn', 'masked_bias'), ('h', '6', 'attn', 'masked_bias'), ('h', '5', 'attn', 'bias'), ('h', '2', 'attn', 'masked_bias'), ('h', '1', 'attn', 'bias'), ('h', '4', 'attn', 'bias'), ('h', '9', 'attn', 'masked_bias'), ('h', '3', 'attn', 'bias'), ('h', '8', 'attn', 'bias'), ('h', '1', 'attn', 'masked_bias'), ('h', '4', 'attn', 'masked_bias'), ('h', '5', 'attn', 'masked_bias'), ('h', '3', 'attn', 'masked_bias'), ('h', '11', 'attn', 'bias'), ('h', '8', 'attn', 'masked_bias'), ('h', '7', 'attn', 'bias')}\n",
      "- This IS expected if you are initializing FlaxGPT2Model from the checkpoint of a model trained on another task or with another architecture (e.g. initializing a BertForSequenceClassification model from a BertForPreTraining model).\n",
      "- This IS NOT expected if you are initializing FlaxGPT2Model from the checkpoint of a model that you expect to be exactly identical (initializing a BertForSequenceClassification model from a BertForSequenceClassification model).\n"
     ]
    },
    {
     "name": "stdout",
     "output_type": "stream",
     "text": [
      "Loading dataset...\n",
      "Training for 10000 iterations\n"
     ]
    },
    {
     "name": "stderr",
     "output_type": "stream",
     "text": [
      "Training SAE:   0%|          | 0/10000 [00:14<?, ?it/s]/home/neverix/.cache/pypoetry/virtualenvs/saex-U2at97x7-py3.12/lib/python3.12/site-packages/jax/_src/interpreters/mlir.py:920: UserWarning: Some donated buffers were not usable: ShapedArray(float32[32768,768]).\n",
      "See an explanation at https://jax.readthedocs.io/en/latest/faq.html#buffer-donation.\n",
      "  warnings.warn(\"Some donated buffers were not usable:\"\n",
      "Training SAE:   0%|          | 1/10000 [00:19<55:23:57, 19.95s/it, dead=0.0, l0=120.42032, loss=1.9340025, loss_reconstruction=1.7941974, loss_sparsity=87.378174, max_time_since_fired=1.0, var_explained=0.68955654]"
     ]
    }
   ],
   "source": [
    "from saex.trainer_cache import main\n",
    "main()"
   ]
  },
  {
   "cell_type": "code",
   "execution_count": 6,
   "metadata": {},
   "outputs": [
    {
     "data": {
      "text/plain": [
       "25"
      ]
     },
     "execution_count": 6,
     "metadata": {},
     "output_type": "execute_result"
    }
   ],
   "source": [
    "from transformers import AutoTokenizer\n",
    "tokenizer = AutoTokenizer.from_pretrained(\"gpt2\")\n",
    "len(tokenizer.encode(\"<|endoftext|>Below is an instruction that describes a task. Write a response that appropriately completes the request.\\n\\n### Instruction:\\n\"))"
   ]
  }
 ],
 "metadata": {
  "kernelspec": {
   "display_name": "saex-U2at97x7-py3.12",
   "language": "python",
   "name": "python3"
  },
  "language_info": {
   "codemirror_mode": {
    "name": "ipython",
    "version": 3
   },
   "file_extension": ".py",
   "mimetype": "text/x-python",
   "name": "python",
   "nbconvert_exporter": "python",
   "pygments_lexer": "ipython3",
   "version": "3.12.3"
  }
 },
 "nbformat": 4,
 "nbformat_minor": 2
}
