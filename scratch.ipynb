{
 "cells": [
  {
   "cell_type": "code",
   "execution_count": 1,
   "metadata": {},
   "outputs": [],
   "source": [
    "%load_ext autoreload\n",
    "%autoreload 2"
   ]
  },
  {
   "cell_type": "code",
   "execution_count": 2,
   "metadata": {},
   "outputs": [],
   "source": [
    "import jax_smi\n",
    "jax_smi.initialise_tracking()"
   ]
  },
  {
   "cell_type": "code",
   "execution_count": 12,
   "metadata": {},
   "outputs": [
    {
     "name": "stdout",
     "output_type": "stream",
     "text": [
      "Creating buffer...\n",
      "Creating SAE...\n",
      "Loading model...\n"
     ]
    },
    {
     "name": "stderr",
     "output_type": "stream",
     "text": [
      "Some weights of the model checkpoint at gpt2 were not used when initializing FlaxGPT2LMHeadModel: {('h', '9', 'attn', 'bias'), ('h', '2', 'attn', 'bias'), ('h', '6', 'attn', 'bias'), ('h', '4', 'attn', 'bias'), ('h', '1', 'attn', 'bias'), ('h', '7', 'attn', 'bias'), ('h', '10', 'attn', 'bias'), ('h', '5', 'attn', 'bias'), ('h', '11', 'attn', 'bias'), ('h', '8', 'attn', 'bias'), ('h', '0', 'attn', 'bias'), ('h', '3', 'attn', 'bias')}\n",
      "- This IS expected if you are initializing FlaxGPT2LMHeadModel from the checkpoint of a model trained on another task or with another architecture (e.g. initializing a BertForSequenceClassification model from a BertForPreTraining model).\n",
      "- This IS NOT expected if you are initializing FlaxGPT2LMHeadModel from the checkpoint of a model that you expect to be exactly identical (initializing a BertForSequenceClassification model from a BertForSequenceClassification model).\n"
     ]
    },
    {
     "name": "stdout",
     "output_type": "stream",
     "text": [
      "Loading dataset...\n"
     ]
    },
    {
     "name": "stderr",
     "output_type": "stream",
     "text": [
      "/home/neverix/.cache/pypoetry/virtualenvs/saex-U2at97x7-py3.12/lib/python3.12/site-packages/datasets/load.py:1461: FutureWarning: The repository for Skylion007/openwebtext contains custom code which must be executed to correctly load the dataset. You can inspect the repository content at https://hf.co/datasets/Skylion007/openwebtext\n",
      "You can avoid this message in future by passing the argument `trust_remote_code=True`.\n",
      "Passing `trust_remote_code=True` will be mandatory to load this dataset from the next major release of `datasets`.\n",
      "  warnings.warn(\n"
     ]
    },
    {
     "name": "stdout",
     "output_type": "stream",
     "text": [
      "Training for 20000 iterations\n"
     ]
    },
    {
     "data": {
      "text/html": [
       "Finishing last run (ID:1l2g3f9c) before initializing another..."
      ],
      "text/plain": [
       "<IPython.core.display.HTML object>"
      ]
     },
     "metadata": {},
     "output_type": "display_data"
    },
    {
     "data": {
      "text/html": [
       " View run <strong style=\"color:#cdcd00\">divine-salad-196</strong> at: <a href='https://wandb.ai/neverix/saex/runs/1l2g3f9c' target=\"_blank\">https://wandb.ai/neverix/saex/runs/1l2g3f9c</a><br/> View project at: <a href='https://wandb.ai/neverix/saex' target=\"_blank\">https://wandb.ai/neverix/saex</a><br/>Synced 6 W&B file(s), 0 media file(s), 0 artifact file(s) and 1 other file(s)"
      ],
      "text/plain": [
       "<IPython.core.display.HTML object>"
      ]
     },
     "metadata": {},
     "output_type": "display_data"
    },
    {
     "data": {
      "text/html": [
       "Find logs at: <code>./wandb/run-20240422_020632-1l2g3f9c/logs</code>"
      ],
      "text/plain": [
       "<IPython.core.display.HTML object>"
      ]
     },
     "metadata": {},
     "output_type": "display_data"
    },
    {
     "data": {
      "text/html": [
       "Successfully finished last run (ID:1l2g3f9c). Initializing new run:<br/>"
      ],
      "text/plain": [
       "<IPython.core.display.HTML object>"
      ]
     },
     "metadata": {},
     "output_type": "display_data"
    },
    {
     "data": {
      "text/html": [
       "Tracking run with wandb version 0.16.6"
      ],
      "text/plain": [
       "<IPython.core.display.HTML object>"
      ]
     },
     "metadata": {},
     "output_type": "display_data"
    },
    {
     "data": {
      "text/html": [
       "Run data is saved locally in <code>/home/neverix/saex/wandb/run-20240422_020951-xo9c65ms</code>"
      ],
      "text/plain": [
       "<IPython.core.display.HTML object>"
      ]
     },
     "metadata": {},
     "output_type": "display_data"
    },
    {
     "data": {
      "text/html": [
       "Syncing run <strong><a href='https://wandb.ai/neverix/saex/runs/xo9c65ms' target=\"_blank\">super-leaf-197</a></strong> to <a href='https://wandb.ai/neverix/saex' target=\"_blank\">Weights & Biases</a> (<a href='https://wandb.me/run' target=\"_blank\">docs</a>)<br/>"
      ],
      "text/plain": [
       "<IPython.core.display.HTML object>"
      ]
     },
     "metadata": {},
     "output_type": "display_data"
    },
    {
     "data": {
      "text/html": [
       " View project at <a href='https://wandb.ai/neverix/saex' target=\"_blank\">https://wandb.ai/neverix/saex</a>"
      ],
      "text/plain": [
       "<IPython.core.display.HTML object>"
      ]
     },
     "metadata": {},
     "output_type": "display_data"
    },
    {
     "data": {
      "text/html": [
       " View run at <a href='https://wandb.ai/neverix/saex/runs/xo9c65ms' target=\"_blank\">https://wandb.ai/neverix/saex/runs/xo9c65ms</a>"
      ],
      "text/plain": [
       "<IPython.core.display.HTML object>"
      ]
     },
     "metadata": {},
     "output_type": "display_data"
    },
    {
     "name": "stdout",
     "output_type": "stream",
     "text": [
      "Learning rate: 0.0004 warmed up for 128 iterations and cycled every 100000 iterations\n"
     ]
    },
    {
     "name": "stderr",
     "output_type": "stream",
     "text": [
      "Training SAE:  12%|█▏        | 2304/20000 [03:18<09:13, 31.98it/s, dead=0.0005696615, l0=65.74925, loss=0.048781503, loss_death=1.3567553e-05, loss_reconstruction=0.023935644, loss_sparsity=155.20183, max_time_since_fired=682.0, var_explained=0.7788373, tokens_processed=4718592]     "
     ]
    }
   ],
   "source": [
    "from saex.trainer_cache import main\n",
    "main()"
   ]
  },
  {
   "cell_type": "code",
   "execution_count": null,
   "metadata": {},
   "outputs": [],
   "source": [
    "# toy model of computation in superposition?"
   ]
  },
  {
   "cell_type": "code",
   "execution_count": null,
   "metadata": {},
   "outputs": [],
   "source": [
    "from matplotlib import pyplot as plt\n",
    "import jax.numpy as jnp\n",
    "from tqdm import tqdm\n",
    "import jax"
   ]
  },
  {
   "cell_type": "code",
   "execution_count": null,
   "metadata": {},
   "outputs": [],
   "source": [
    "n = 3\n",
    "# x = jax.nn.one_hot(jnp.arange(n), n)\n",
    "diff = jnp.power(2, jnp.arange(n))[None, :]\n",
    "x = jnp.arange(2 ** n)[:, None] % (diff * 2) < diff\n",
    "y = (x[:, :, None] & x[:, None, :]).reshape(x.shape[0], -1)"
   ]
  },
  {
   "cell_type": "code",
   "execution_count": null,
   "metadata": {},
   "outputs": [],
   "source": [
    "# this is where the fun begins\n",
    "def reverse_engineer_bound(x, y, d, k=jax.random.PRNGKey(0), la=1e-3, nit=100_000, d_max=n*n):\n",
    "    # initialize = lambda x: jnp.ones(x)\n",
    "    def initialize(x, k):\n",
    "        k, s = jax.random.split(k)\n",
    "        if len(x) == 1:\n",
    "            return jax.random.normal(k, x), s\n",
    "        else:\n",
    "            return jax.nn.initializers.he_normal()(k, x), s\n",
    "    # w1, k = initialize((x.shape[-1], d_max), k)\n",
    "    k, s = jax.random.split(k); w1 = jax.random.bernoulli(\n",
    "        s, jnp.log(x.shape[-1]) ** 2 / (d ** 0.5), (x.shape[-1], d_max)).astype(jnp.float32)\n",
    "    w2, k = initialize((d_max, y.shape[-1]), k)\n",
    "    b1, k = initialize((d_max,), k)\n",
    "    # b1 = jnp.full((d_max,), -1.)\n",
    "    b2, k = initialize((y.shape[-1],), k)\n",
    "    def loss_fn(p):\n",
    "        w1, b1, w2, b2 = p\n",
    "        return jnp.abs(jax.nn.relu(x @ w1 + b1) * (jnp.arange(d_max) < d) @ w2 + b2 - y).max()\n",
    "    \n",
    "    lwg = jax.value_and_grad(loss_fn)\n",
    "    def scanner(p, _):\n",
    "        loss, grad = lwg(p)\n",
    "        p = jax.tree.map(lambda x, y: x - y * la, p, grad)\n",
    "        return p, None\n",
    "    wb, _ = jax.lax.scan(scanner, (w1, b1, w2, b2), jnp.arange(nit))\n",
    "    \n",
    "    return loss_fn(wb)\n",
    "\n",
    "\n",
    "@jax.jit\n",
    "def try_train(x, y, d):\n",
    "    k = jax.random.PRNGKey(3)\n",
    "    nit = 10_000\n",
    "    t = 1_000\n",
    "    lamin, lamax = 1e-5, 1e-1\n",
    "    la = jnp.exp(jnp.linspace(jnp.log(lamin), jnp.log(lamax), t))\n",
    "    keys_ensemble = jax.random.split(k, t)\n",
    "    return jax.vmap(reverse_engineer_bound, in_axes=(None, None, None, 0, 0, None))(x, y, d, keys_ensemble, la, nit).min()\n",
    "\n",
    "# jax.vmap(try_train, in_axes=(None, None, 0))(x, y, jnp.arange(1, 9))\n",
    "ds = jnp.arange(0, n*n+1)\n",
    "losses = jax.vmap(try_train, in_axes=(None, None, 0))(x, y, ds)"
   ]
  },
  {
   "cell_type": "code",
   "execution_count": null,
   "metadata": {},
   "outputs": [
    {
     "data": {
      "text/plain": [
       "(0.0, 0.5)"
      ]
     },
     "execution_count": 12,
     "metadata": {},
     "output_type": "execute_result"
    },
    {
     "data": {
      "image/png": "[encoded data removed]",
      "text/plain": [
       "<Figure size 640x480 with 1 Axes>"
      ]
     },
     "metadata": {},
     "output_type": "display_data"
    }
   ],
   "source": [
    "plt.plot(ds, losses)\n",
    "seq = (jnp.log(n) ** 2 / ds[n:])\n",
    "plt.plot(ds[n:], seq - seq.min() + losses.min())\n",
    "plt.ylim(0, 0.5)"
   ]
  }
 ],
 "metadata": {
  "kernelspec": {
   "display_name": "saex-U2at97x7-py3.12",
   "language": "python",
   "name": "python3"
  },
  "language_info": {
   "codemirror_mode": {
    "name": "ipython",
    "version": 3
   },
   "file_extension": ".py",
   "mimetype": "text/x-python",
   "name": "python",
   "nbconvert_exporter": "python",
   "pygments_lexer": "ipython3",
   "version": "3.12.3"
  }
 },
 "nbformat": 4,
 "nbformat_minor": 2
}
